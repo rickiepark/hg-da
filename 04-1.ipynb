{
  "cells": [
    {
      "cell_type": "markdown",
      "id": "f9ea6ec8",
      "metadata": {
        "id": "f9ea6ec8"
      },
      "source": [
        "# 04-1 통계로 요약하기"
      ]
    },
    {
      "cell_type": "markdown",
      "id": "e6603670",
      "metadata": {
        "id": "e6603670"
      },
      "source": [
        "<table class=\"tfo-notebook-buttons\" align=\"left\">\n",
        "  <td>\n",
        "    <a target=\"_blank\" href=\"https://nbviewer.jupyter.org/github/rickiepark/hg-da/blob/main/04-1.ipynb\"><img src=\"https://jupyter.org/assets/share.png\" width=\"61\" />주피터 노트북 뷰어로 보기</a>\n",
        "  </td>\n",
        "  <td>\n",
        "    <a target=\"_blank\" href=\"https://colab.research.google.com/github/rickiepark/hg-da/blob/main/04-1.ipynb\"><img src=\"https://www.tensorflow.org/images/colab_logo_32px.png\" />구글 코랩(Colab)에서 실행하기</a>\n",
        "  </td>\n",
        "</table>"
      ]
    },
    {
      "cell_type": "markdown",
      "id": "2808d3b5",
      "metadata": {
        "id": "2808d3b5"
      },
      "source": [
        "## 기술통계 구하기"
      ]
    },
    {
      "cell_type": "code",
      "execution_count": 1,
      "id": "dec4d531",
      "metadata": {
        "id": "dec4d531",
        "outputId": "afbc687b-71b5-473c-9057-c05ba929ff93",
        "colab": {
          "base_uri": "https://localhost:8080/",
          "height": 109
        }
      },
      "outputs": [
        {
          "output_type": "stream",
          "name": "stderr",
          "text": [
            "Downloading...\n",
            "From: https://bit.ly/3736JW1\n",
            "To: /content/ns_book6.csv\n",
            "100%|██████████| 55.0M/55.0M [00:00<00:00, 76.6MB/s]\n"
          ]
        },
        {
          "output_type": "execute_result",
          "data": {
            "text/plain": [
              "'ns_book6.csv'"
            ],
            "application/vnd.google.colaboratory.intrinsic+json": {
              "type": "string"
            }
          },
          "metadata": {},
          "execution_count": 1
        }
      ],
      "source": [
        "import gdown\n",
        "\n",
        "gdown.download('https://bit.ly/3736JW1', 'ns_book6.csv', quiet=False)"
      ]
    },
    {
      "cell_type": "code",
      "execution_count": 2,
      "id": "158388b2",
      "metadata": {
        "id": "158388b2",
        "outputId": "ebdd3bba-1b6f-440e-b47d-2a4f9cf0b62d",
        "colab": {
          "base_uri": "https://localhost:8080/",
          "height": 310
        }
      },
      "outputs": [
        {
          "output_type": "execute_result",
          "data": {
            "text/plain": [
              "   번호                    도서명                저자    출판사    발행년도           ISBN  \\\n",
              "0   1                인공지능과 흙            김동훈 지음    민음사  2021.0  9788937444319   \n",
              "1   2           가짜 행복 권하는 사회            김태형 지음   갈매나무  2021.0  9791190123969   \n",
              "2   3  나도 한 문장 잘 쓰면 바랄 게 없겠네            김선영 지음   블랙피쉬  2021.0  9788968332982   \n",
              "3   4                예루살렘 해변  이도 게펜 지음, 임재희 옮김  문학세계사  2021.0  9788970759906   \n",
              "4   5  김성곤의 중국한시기행 : 장강·황하 편            김성곤 지음    김영사  2021.0  9788934990833   \n",
              "\n",
              "  세트 ISBN 부가기호    권 주제분류번호  도서권수  대출건수        등록일자  \n",
              "0     NaN  NaN  NaN    NaN     1     0  2021-03-19  \n",
              "1     NaN  NaN  NaN    NaN     1     0  2021-03-19  \n",
              "2     NaN  NaN  NaN    NaN     1     0  2021-03-19  \n",
              "3     NaN  NaN  NaN    NaN     1     0  2021-03-19  \n",
              "4     NaN  NaN  NaN    NaN     1     0  2021-03-19  "
            ],
            "text/html": [
              "\n",
              "  <div id=\"df-771289d8-9bd1-40f1-a6be-e293eeaf5295\" class=\"colab-df-container\">\n",
              "    <div>\n",
              "<style scoped>\n",
              "    .dataframe tbody tr th:only-of-type {\n",
              "        vertical-align: middle;\n",
              "    }\n",
              "\n",
              "    .dataframe tbody tr th {\n",
              "        vertical-align: top;\n",
              "    }\n",
              "\n",
              "    .dataframe thead th {\n",
              "        text-align: right;\n",
              "    }\n",
              "</style>\n",
              "<table border=\"1\" class=\"dataframe\">\n",
              "  <thead>\n",
              "    <tr style=\"text-align: right;\">\n",
              "      <th></th>\n",
              "      <th>번호</th>\n",
              "      <th>도서명</th>\n",
              "      <th>저자</th>\n",
              "      <th>출판사</th>\n",
              "      <th>발행년도</th>\n",
              "      <th>ISBN</th>\n",
              "      <th>세트 ISBN</th>\n",
              "      <th>부가기호</th>\n",
              "      <th>권</th>\n",
              "      <th>주제분류번호</th>\n",
              "      <th>도서권수</th>\n",
              "      <th>대출건수</th>\n",
              "      <th>등록일자</th>\n",
              "    </tr>\n",
              "  </thead>\n",
              "  <tbody>\n",
              "    <tr>\n",
              "      <th>0</th>\n",
              "      <td>1</td>\n",
              "      <td>인공지능과 흙</td>\n",
              "      <td>김동훈 지음</td>\n",
              "      <td>민음사</td>\n",
              "      <td>2021.0</td>\n",
              "      <td>9788937444319</td>\n",
              "      <td>NaN</td>\n",
              "      <td>NaN</td>\n",
              "      <td>NaN</td>\n",
              "      <td>NaN</td>\n",
              "      <td>1</td>\n",
              "      <td>0</td>\n",
              "      <td>2021-03-19</td>\n",
              "    </tr>\n",
              "    <tr>\n",
              "      <th>1</th>\n",
              "      <td>2</td>\n",
              "      <td>가짜 행복 권하는 사회</td>\n",
              "      <td>김태형 지음</td>\n",
              "      <td>갈매나무</td>\n",
              "      <td>2021.0</td>\n",
              "      <td>9791190123969</td>\n",
              "      <td>NaN</td>\n",
              "      <td>NaN</td>\n",
              "      <td>NaN</td>\n",
              "      <td>NaN</td>\n",
              "      <td>1</td>\n",
              "      <td>0</td>\n",
              "      <td>2021-03-19</td>\n",
              "    </tr>\n",
              "    <tr>\n",
              "      <th>2</th>\n",
              "      <td>3</td>\n",
              "      <td>나도 한 문장 잘 쓰면 바랄 게 없겠네</td>\n",
              "      <td>김선영 지음</td>\n",
              "      <td>블랙피쉬</td>\n",
              "      <td>2021.0</td>\n",
              "      <td>9788968332982</td>\n",
              "      <td>NaN</td>\n",
              "      <td>NaN</td>\n",
              "      <td>NaN</td>\n",
              "      <td>NaN</td>\n",
              "      <td>1</td>\n",
              "      <td>0</td>\n",
              "      <td>2021-03-19</td>\n",
              "    </tr>\n",
              "    <tr>\n",
              "      <th>3</th>\n",
              "      <td>4</td>\n",
              "      <td>예루살렘 해변</td>\n",
              "      <td>이도 게펜 지음, 임재희 옮김</td>\n",
              "      <td>문학세계사</td>\n",
              "      <td>2021.0</td>\n",
              "      <td>9788970759906</td>\n",
              "      <td>NaN</td>\n",
              "      <td>NaN</td>\n",
              "      <td>NaN</td>\n",
              "      <td>NaN</td>\n",
              "      <td>1</td>\n",
              "      <td>0</td>\n",
              "      <td>2021-03-19</td>\n",
              "    </tr>\n",
              "    <tr>\n",
              "      <th>4</th>\n",
              "      <td>5</td>\n",
              "      <td>김성곤의 중국한시기행 : 장강·황하 편</td>\n",
              "      <td>김성곤 지음</td>\n",
              "      <td>김영사</td>\n",
              "      <td>2021.0</td>\n",
              "      <td>9788934990833</td>\n",
              "      <td>NaN</td>\n",
              "      <td>NaN</td>\n",
              "      <td>NaN</td>\n",
              "      <td>NaN</td>\n",
              "      <td>1</td>\n",
              "      <td>0</td>\n",
              "      <td>2021-03-19</td>\n",
              "    </tr>\n",
              "  </tbody>\n",
              "</table>\n",
              "</div>\n",
              "    <div class=\"colab-df-buttons\">\n",
              "\n",
              "  <div class=\"colab-df-container\">\n",
              "    <button class=\"colab-df-convert\" onclick=\"convertToInteractive('df-771289d8-9bd1-40f1-a6be-e293eeaf5295')\"\n",
              "            title=\"Convert this dataframe to an interactive table.\"\n",
              "            style=\"display:none;\">\n",
              "\n",
              "  <svg xmlns=\"http://www.w3.org/2000/svg\" height=\"24px\" viewBox=\"0 -960 960 960\">\n",
              "    <path d=\"M120-120v-720h720v720H120Zm60-500h600v-160H180v160Zm220 220h160v-160H400v160Zm0 220h160v-160H400v160ZM180-400h160v-160H180v160Zm440 0h160v-160H620v160ZM180-180h160v-160H180v160Zm440 0h160v-160H620v160Z\"/>\n",
              "  </svg>\n",
              "    </button>\n",
              "\n",
              "  <style>\n",
              "    .colab-df-container {\n",
              "      display:flex;\n",
              "      gap: 12px;\n",
              "    }\n",
              "\n",
              "    .colab-df-convert {\n",
              "      background-color: #E8F0FE;\n",
              "      border: none;\n",
              "      border-radius: 50%;\n",
              "      cursor: pointer;\n",
              "      display: none;\n",
              "      fill: #1967D2;\n",
              "      height: 32px;\n",
              "      padding: 0 0 0 0;\n",
              "      width: 32px;\n",
              "    }\n",
              "\n",
              "    .colab-df-convert:hover {\n",
              "      background-color: #E2EBFA;\n",
              "      box-shadow: 0px 1px 2px rgba(60, 64, 67, 0.3), 0px 1px 3px 1px rgba(60, 64, 67, 0.15);\n",
              "      fill: #174EA6;\n",
              "    }\n",
              "\n",
              "    .colab-df-buttons div {\n",
              "      margin-bottom: 4px;\n",
              "    }\n",
              "\n",
              "    [theme=dark] .colab-df-convert {\n",
              "      background-color: #3B4455;\n",
              "      fill: #D2E3FC;\n",
              "    }\n",
              "\n",
              "    [theme=dark] .colab-df-convert:hover {\n",
              "      background-color: #434B5C;\n",
              "      box-shadow: 0px 1px 3px 1px rgba(0, 0, 0, 0.15);\n",
              "      filter: drop-shadow(0px 1px 2px rgba(0, 0, 0, 0.3));\n",
              "      fill: #FFFFFF;\n",
              "    }\n",
              "  </style>\n",
              "\n",
              "    <script>\n",
              "      const buttonEl =\n",
              "        document.querySelector('#df-771289d8-9bd1-40f1-a6be-e293eeaf5295 button.colab-df-convert');\n",
              "      buttonEl.style.display =\n",
              "        google.colab.kernel.accessAllowed ? 'block' : 'none';\n",
              "\n",
              "      async function convertToInteractive(key) {\n",
              "        const element = document.querySelector('#df-771289d8-9bd1-40f1-a6be-e293eeaf5295');\n",
              "        const dataTable =\n",
              "          await google.colab.kernel.invokeFunction('convertToInteractive',\n",
              "                                                    [key], {});\n",
              "        if (!dataTable) return;\n",
              "\n",
              "        const docLinkHtml = 'Like what you see? Visit the ' +\n",
              "          '<a target=\"_blank\" href=https://colab.research.google.com/notebooks/data_table.ipynb>data table notebook</a>'\n",
              "          + ' to learn more about interactive tables.';\n",
              "        element.innerHTML = '';\n",
              "        dataTable['output_type'] = 'display_data';\n",
              "        await google.colab.output.renderOutput(dataTable, element);\n",
              "        const docLink = document.createElement('div');\n",
              "        docLink.innerHTML = docLinkHtml;\n",
              "        element.appendChild(docLink);\n",
              "      }\n",
              "    </script>\n",
              "  </div>\n",
              "\n",
              "\n",
              "<div id=\"df-672afde1-740e-4831-b144-49101e8fa778\">\n",
              "  <button class=\"colab-df-quickchart\" onclick=\"quickchart('df-672afde1-740e-4831-b144-49101e8fa778')\"\n",
              "            title=\"Suggest charts\"\n",
              "            style=\"display:none;\">\n",
              "\n",
              "<svg xmlns=\"http://www.w3.org/2000/svg\" height=\"24px\"viewBox=\"0 0 24 24\"\n",
              "     width=\"24px\">\n",
              "    <g>\n",
              "        <path d=\"M19 3H5c-1.1 0-2 .9-2 2v14c0 1.1.9 2 2 2h14c1.1 0 2-.9 2-2V5c0-1.1-.9-2-2-2zM9 17H7v-7h2v7zm4 0h-2V7h2v10zm4 0h-2v-4h2v4z\"/>\n",
              "    </g>\n",
              "</svg>\n",
              "  </button>\n",
              "\n",
              "<style>\n",
              "  .colab-df-quickchart {\n",
              "      --bg-color: #E8F0FE;\n",
              "      --fill-color: #1967D2;\n",
              "      --hover-bg-color: #E2EBFA;\n",
              "      --hover-fill-color: #174EA6;\n",
              "      --disabled-fill-color: #AAA;\n",
              "      --disabled-bg-color: #DDD;\n",
              "  }\n",
              "\n",
              "  [theme=dark] .colab-df-quickchart {\n",
              "      --bg-color: #3B4455;\n",
              "      --fill-color: #D2E3FC;\n",
              "      --hover-bg-color: #434B5C;\n",
              "      --hover-fill-color: #FFFFFF;\n",
              "      --disabled-bg-color: #3B4455;\n",
              "      --disabled-fill-color: #666;\n",
              "  }\n",
              "\n",
              "  .colab-df-quickchart {\n",
              "    background-color: var(--bg-color);\n",
              "    border: none;\n",
              "    border-radius: 50%;\n",
              "    cursor: pointer;\n",
              "    display: none;\n",
              "    fill: var(--fill-color);\n",
              "    height: 32px;\n",
              "    padding: 0;\n",
              "    width: 32px;\n",
              "  }\n",
              "\n",
              "  .colab-df-quickchart:hover {\n",
              "    background-color: var(--hover-bg-color);\n",
              "    box-shadow: 0 1px 2px rgba(60, 64, 67, 0.3), 0 1px 3px 1px rgba(60, 64, 67, 0.15);\n",
              "    fill: var(--button-hover-fill-color);\n",
              "  }\n",
              "\n",
              "  .colab-df-quickchart-complete:disabled,\n",
              "  .colab-df-quickchart-complete:disabled:hover {\n",
              "    background-color: var(--disabled-bg-color);\n",
              "    fill: var(--disabled-fill-color);\n",
              "    box-shadow: none;\n",
              "  }\n",
              "\n",
              "  .colab-df-spinner {\n",
              "    border: 2px solid var(--fill-color);\n",
              "    border-color: transparent;\n",
              "    border-bottom-color: var(--fill-color);\n",
              "    animation:\n",
              "      spin 1s steps(1) infinite;\n",
              "  }\n",
              "\n",
              "  @keyframes spin {\n",
              "    0% {\n",
              "      border-color: transparent;\n",
              "      border-bottom-color: var(--fill-color);\n",
              "      border-left-color: var(--fill-color);\n",
              "    }\n",
              "    20% {\n",
              "      border-color: transparent;\n",
              "      border-left-color: var(--fill-color);\n",
              "      border-top-color: var(--fill-color);\n",
              "    }\n",
              "    30% {\n",
              "      border-color: transparent;\n",
              "      border-left-color: var(--fill-color);\n",
              "      border-top-color: var(--fill-color);\n",
              "      border-right-color: var(--fill-color);\n",
              "    }\n",
              "    40% {\n",
              "      border-color: transparent;\n",
              "      border-right-color: var(--fill-color);\n",
              "      border-top-color: var(--fill-color);\n",
              "    }\n",
              "    60% {\n",
              "      border-color: transparent;\n",
              "      border-right-color: var(--fill-color);\n",
              "    }\n",
              "    80% {\n",
              "      border-color: transparent;\n",
              "      border-right-color: var(--fill-color);\n",
              "      border-bottom-color: var(--fill-color);\n",
              "    }\n",
              "    90% {\n",
              "      border-color: transparent;\n",
              "      border-bottom-color: var(--fill-color);\n",
              "    }\n",
              "  }\n",
              "</style>\n",
              "\n",
              "  <script>\n",
              "    async function quickchart(key) {\n",
              "      const quickchartButtonEl =\n",
              "        document.querySelector('#' + key + ' button');\n",
              "      quickchartButtonEl.disabled = true;  // To prevent multiple clicks.\n",
              "      quickchartButtonEl.classList.add('colab-df-spinner');\n",
              "      try {\n",
              "        const charts = await google.colab.kernel.invokeFunction(\n",
              "            'suggestCharts', [key], {});\n",
              "      } catch (error) {\n",
              "        console.error('Error during call to suggestCharts:', error);\n",
              "      }\n",
              "      quickchartButtonEl.classList.remove('colab-df-spinner');\n",
              "      quickchartButtonEl.classList.add('colab-df-quickchart-complete');\n",
              "    }\n",
              "    (() => {\n",
              "      let quickchartButtonEl =\n",
              "        document.querySelector('#df-672afde1-740e-4831-b144-49101e8fa778 button');\n",
              "      quickchartButtonEl.style.display =\n",
              "        google.colab.kernel.accessAllowed ? 'block' : 'none';\n",
              "    })();\n",
              "  </script>\n",
              "</div>\n",
              "\n",
              "    </div>\n",
              "  </div>\n"
            ],
            "application/vnd.google.colaboratory.intrinsic+json": {
              "type": "dataframe",
              "variable_name": "ns_book6"
            }
          },
          "metadata": {},
          "execution_count": 2
        }
      ],
      "source": [
        "import pandas as pd\n",
        "\n",
        "ns_book6 = pd.read_csv('ns_book6.csv', low_memory=False)\n",
        "ns_book6.head()"
      ]
    },
    {
      "cell_type": "code",
      "execution_count": 3,
      "id": "2af026e1",
      "metadata": {
        "scrolled": true,
        "id": "2af026e1",
        "outputId": "96e0675f-75bb-4965-87d7-448de600f440",
        "colab": {
          "base_uri": "https://localhost:8080/",
          "height": 300
        }
      },
      "outputs": [
        {
          "output_type": "execute_result",
          "data": {
            "text/plain": [
              "                  번호           발행년도           도서권수           대출건수\n",
              "count  379976.000000  379976.000000  379976.000000  379976.000000\n",
              "mean   201726.332847    2008.516306       1.135874      11.504629\n",
              "std    115836.454596       8.780529       0.483343      19.241926\n",
              "min         1.000000    1947.000000       0.000000       0.000000\n",
              "25%    102202.750000    2003.000000       1.000000       2.000000\n",
              "50%    203179.500000    2009.000000       1.000000       6.000000\n",
              "75%    301630.250000    2015.000000       1.000000      14.000000\n",
              "max    401681.000000    2650.000000      40.000000    1765.000000"
            ],
            "text/html": [
              "\n",
              "  <div id=\"df-708b406b-6086-47c5-92f6-adc09dceb3fc\" class=\"colab-df-container\">\n",
              "    <div>\n",
              "<style scoped>\n",
              "    .dataframe tbody tr th:only-of-type {\n",
              "        vertical-align: middle;\n",
              "    }\n",
              "\n",
              "    .dataframe tbody tr th {\n",
              "        vertical-align: top;\n",
              "    }\n",
              "\n",
              "    .dataframe thead th {\n",
              "        text-align: right;\n",
              "    }\n",
              "</style>\n",
              "<table border=\"1\" class=\"dataframe\">\n",
              "  <thead>\n",
              "    <tr style=\"text-align: right;\">\n",
              "      <th></th>\n",
              "      <th>번호</th>\n",
              "      <th>발행년도</th>\n",
              "      <th>도서권수</th>\n",
              "      <th>대출건수</th>\n",
              "    </tr>\n",
              "  </thead>\n",
              "  <tbody>\n",
              "    <tr>\n",
              "      <th>count</th>\n",
              "      <td>379976.000000</td>\n",
              "      <td>379976.000000</td>\n",
              "      <td>379976.000000</td>\n",
              "      <td>379976.000000</td>\n",
              "    </tr>\n",
              "    <tr>\n",
              "      <th>mean</th>\n",
              "      <td>201726.332847</td>\n",
              "      <td>2008.516306</td>\n",
              "      <td>1.135874</td>\n",
              "      <td>11.504629</td>\n",
              "    </tr>\n",
              "    <tr>\n",
              "      <th>std</th>\n",
              "      <td>115836.454596</td>\n",
              "      <td>8.780529</td>\n",
              "      <td>0.483343</td>\n",
              "      <td>19.241926</td>\n",
              "    </tr>\n",
              "    <tr>\n",
              "      <th>min</th>\n",
              "      <td>1.000000</td>\n",
              "      <td>1947.000000</td>\n",
              "      <td>0.000000</td>\n",
              "      <td>0.000000</td>\n",
              "    </tr>\n",
              "    <tr>\n",
              "      <th>25%</th>\n",
              "      <td>102202.750000</td>\n",
              "      <td>2003.000000</td>\n",
              "      <td>1.000000</td>\n",
              "      <td>2.000000</td>\n",
              "    </tr>\n",
              "    <tr>\n",
              "      <th>50%</th>\n",
              "      <td>203179.500000</td>\n",
              "      <td>2009.000000</td>\n",
              "      <td>1.000000</td>\n",
              "      <td>6.000000</td>\n",
              "    </tr>\n",
              "    <tr>\n",
              "      <th>75%</th>\n",
              "      <td>301630.250000</td>\n",
              "      <td>2015.000000</td>\n",
              "      <td>1.000000</td>\n",
              "      <td>14.000000</td>\n",
              "    </tr>\n",
              "    <tr>\n",
              "      <th>max</th>\n",
              "      <td>401681.000000</td>\n",
              "      <td>2650.000000</td>\n",
              "      <td>40.000000</td>\n",
              "      <td>1765.000000</td>\n",
              "    </tr>\n",
              "  </tbody>\n",
              "</table>\n",
              "</div>\n",
              "    <div class=\"colab-df-buttons\">\n",
              "\n",
              "  <div class=\"colab-df-container\">\n",
              "    <button class=\"colab-df-convert\" onclick=\"convertToInteractive('df-708b406b-6086-47c5-92f6-adc09dceb3fc')\"\n",
              "            title=\"Convert this dataframe to an interactive table.\"\n",
              "            style=\"display:none;\">\n",
              "\n",
              "  <svg xmlns=\"http://www.w3.org/2000/svg\" height=\"24px\" viewBox=\"0 -960 960 960\">\n",
              "    <path d=\"M120-120v-720h720v720H120Zm60-500h600v-160H180v160Zm220 220h160v-160H400v160Zm0 220h160v-160H400v160ZM180-400h160v-160H180v160Zm440 0h160v-160H620v160ZM180-180h160v-160H180v160Zm440 0h160v-160H620v160Z\"/>\n",
              "  </svg>\n",
              "    </button>\n",
              "\n",
              "  <style>\n",
              "    .colab-df-container {\n",
              "      display:flex;\n",
              "      gap: 12px;\n",
              "    }\n",
              "\n",
              "    .colab-df-convert {\n",
              "      background-color: #E8F0FE;\n",
              "      border: none;\n",
              "      border-radius: 50%;\n",
              "      cursor: pointer;\n",
              "      display: none;\n",
              "      fill: #1967D2;\n",
              "      height: 32px;\n",
              "      padding: 0 0 0 0;\n",
              "      width: 32px;\n",
              "    }\n",
              "\n",
              "    .colab-df-convert:hover {\n",
              "      background-color: #E2EBFA;\n",
              "      box-shadow: 0px 1px 2px rgba(60, 64, 67, 0.3), 0px 1px 3px 1px rgba(60, 64, 67, 0.15);\n",
              "      fill: #174EA6;\n",
              "    }\n",
              "\n",
              "    .colab-df-buttons div {\n",
              "      margin-bottom: 4px;\n",
              "    }\n",
              "\n",
              "    [theme=dark] .colab-df-convert {\n",
              "      background-color: #3B4455;\n",
              "      fill: #D2E3FC;\n",
              "    }\n",
              "\n",
              "    [theme=dark] .colab-df-convert:hover {\n",
              "      background-color: #434B5C;\n",
              "      box-shadow: 0px 1px 3px 1px rgba(0, 0, 0, 0.15);\n",
              "      filter: drop-shadow(0px 1px 2px rgba(0, 0, 0, 0.3));\n",
              "      fill: #FFFFFF;\n",
              "    }\n",
              "  </style>\n",
              "\n",
              "    <script>\n",
              "      const buttonEl =\n",
              "        document.querySelector('#df-708b406b-6086-47c5-92f6-adc09dceb3fc button.colab-df-convert');\n",
              "      buttonEl.style.display =\n",
              "        google.colab.kernel.accessAllowed ? 'block' : 'none';\n",
              "\n",
              "      async function convertToInteractive(key) {\n",
              "        const element = document.querySelector('#df-708b406b-6086-47c5-92f6-adc09dceb3fc');\n",
              "        const dataTable =\n",
              "          await google.colab.kernel.invokeFunction('convertToInteractive',\n",
              "                                                    [key], {});\n",
              "        if (!dataTable) return;\n",
              "\n",
              "        const docLinkHtml = 'Like what you see? Visit the ' +\n",
              "          '<a target=\"_blank\" href=https://colab.research.google.com/notebooks/data_table.ipynb>data table notebook</a>'\n",
              "          + ' to learn more about interactive tables.';\n",
              "        element.innerHTML = '';\n",
              "        dataTable['output_type'] = 'display_data';\n",
              "        await google.colab.output.renderOutput(dataTable, element);\n",
              "        const docLink = document.createElement('div');\n",
              "        docLink.innerHTML = docLinkHtml;\n",
              "        element.appendChild(docLink);\n",
              "      }\n",
              "    </script>\n",
              "  </div>\n",
              "\n",
              "\n",
              "<div id=\"df-4b94a972-85b4-456a-8e6d-8cf3d3914661\">\n",
              "  <button class=\"colab-df-quickchart\" onclick=\"quickchart('df-4b94a972-85b4-456a-8e6d-8cf3d3914661')\"\n",
              "            title=\"Suggest charts\"\n",
              "            style=\"display:none;\">\n",
              "\n",
              "<svg xmlns=\"http://www.w3.org/2000/svg\" height=\"24px\"viewBox=\"0 0 24 24\"\n",
              "     width=\"24px\">\n",
              "    <g>\n",
              "        <path d=\"M19 3H5c-1.1 0-2 .9-2 2v14c0 1.1.9 2 2 2h14c1.1 0 2-.9 2-2V5c0-1.1-.9-2-2-2zM9 17H7v-7h2v7zm4 0h-2V7h2v10zm4 0h-2v-4h2v4z\"/>\n",
              "    </g>\n",
              "</svg>\n",
              "  </button>\n",
              "\n",
              "<style>\n",
              "  .colab-df-quickchart {\n",
              "      --bg-color: #E8F0FE;\n",
              "      --fill-color: #1967D2;\n",
              "      --hover-bg-color: #E2EBFA;\n",
              "      --hover-fill-color: #174EA6;\n",
              "      --disabled-fill-color: #AAA;\n",
              "      --disabled-bg-color: #DDD;\n",
              "  }\n",
              "\n",
              "  [theme=dark] .colab-df-quickchart {\n",
              "      --bg-color: #3B4455;\n",
              "      --fill-color: #D2E3FC;\n",
              "      --hover-bg-color: #434B5C;\n",
              "      --hover-fill-color: #FFFFFF;\n",
              "      --disabled-bg-color: #3B4455;\n",
              "      --disabled-fill-color: #666;\n",
              "  }\n",
              "\n",
              "  .colab-df-quickchart {\n",
              "    background-color: var(--bg-color);\n",
              "    border: none;\n",
              "    border-radius: 50%;\n",
              "    cursor: pointer;\n",
              "    display: none;\n",
              "    fill: var(--fill-color);\n",
              "    height: 32px;\n",
              "    padding: 0;\n",
              "    width: 32px;\n",
              "  }\n",
              "\n",
              "  .colab-df-quickchart:hover {\n",
              "    background-color: var(--hover-bg-color);\n",
              "    box-shadow: 0 1px 2px rgba(60, 64, 67, 0.3), 0 1px 3px 1px rgba(60, 64, 67, 0.15);\n",
              "    fill: var(--button-hover-fill-color);\n",
              "  }\n",
              "\n",
              "  .colab-df-quickchart-complete:disabled,\n",
              "  .colab-df-quickchart-complete:disabled:hover {\n",
              "    background-color: var(--disabled-bg-color);\n",
              "    fill: var(--disabled-fill-color);\n",
              "    box-shadow: none;\n",
              "  }\n",
              "\n",
              "  .colab-df-spinner {\n",
              "    border: 2px solid var(--fill-color);\n",
              "    border-color: transparent;\n",
              "    border-bottom-color: var(--fill-color);\n",
              "    animation:\n",
              "      spin 1s steps(1) infinite;\n",
              "  }\n",
              "\n",
              "  @keyframes spin {\n",
              "    0% {\n",
              "      border-color: transparent;\n",
              "      border-bottom-color: var(--fill-color);\n",
              "      border-left-color: var(--fill-color);\n",
              "    }\n",
              "    20% {\n",
              "      border-color: transparent;\n",
              "      border-left-color: var(--fill-color);\n",
              "      border-top-color: var(--fill-color);\n",
              "    }\n",
              "    30% {\n",
              "      border-color: transparent;\n",
              "      border-left-color: var(--fill-color);\n",
              "      border-top-color: var(--fill-color);\n",
              "      border-right-color: var(--fill-color);\n",
              "    }\n",
              "    40% {\n",
              "      border-color: transparent;\n",
              "      border-right-color: var(--fill-color);\n",
              "      border-top-color: var(--fill-color);\n",
              "    }\n",
              "    60% {\n",
              "      border-color: transparent;\n",
              "      border-right-color: var(--fill-color);\n",
              "    }\n",
              "    80% {\n",
              "      border-color: transparent;\n",
              "      border-right-color: var(--fill-color);\n",
              "      border-bottom-color: var(--fill-color);\n",
              "    }\n",
              "    90% {\n",
              "      border-color: transparent;\n",
              "      border-bottom-color: var(--fill-color);\n",
              "    }\n",
              "  }\n",
              "</style>\n",
              "\n",
              "  <script>\n",
              "    async function quickchart(key) {\n",
              "      const quickchartButtonEl =\n",
              "        document.querySelector('#' + key + ' button');\n",
              "      quickchartButtonEl.disabled = true;  // To prevent multiple clicks.\n",
              "      quickchartButtonEl.classList.add('colab-df-spinner');\n",
              "      try {\n",
              "        const charts = await google.colab.kernel.invokeFunction(\n",
              "            'suggestCharts', [key], {});\n",
              "      } catch (error) {\n",
              "        console.error('Error during call to suggestCharts:', error);\n",
              "      }\n",
              "      quickchartButtonEl.classList.remove('colab-df-spinner');\n",
              "      quickchartButtonEl.classList.add('colab-df-quickchart-complete');\n",
              "    }\n",
              "    (() => {\n",
              "      let quickchartButtonEl =\n",
              "        document.querySelector('#df-4b94a972-85b4-456a-8e6d-8cf3d3914661 button');\n",
              "      quickchartButtonEl.style.display =\n",
              "        google.colab.kernel.accessAllowed ? 'block' : 'none';\n",
              "    })();\n",
              "  </script>\n",
              "</div>\n",
              "\n",
              "    </div>\n",
              "  </div>\n"
            ],
            "application/vnd.google.colaboratory.intrinsic+json": {
              "type": "dataframe",
              "summary": "{\n  \"name\": \"ns_book6\",\n  \"rows\": 8,\n  \"fields\": [\n    {\n      \"column\": \"\\ubc88\\ud638\",\n      \"properties\": {\n        \"dtype\": \"number\",\n        \"std\": 140735.3641519234,\n        \"min\": 1.0,\n        \"max\": 401681.0,\n        \"num_unique_values\": 8,\n        \"samples\": [\n          201726.33284733773,\n          203179.5,\n          379976.0\n        ],\n        \"semantic_type\": \"\",\n        \"description\": \"\"\n      }\n    },\n    {\n      \"column\": \"\\ubc1c\\ud589\\ub144\\ub3c4\",\n      \"properties\": {\n        \"dtype\": \"number\",\n        \"std\": 133705.52595325882,\n        \"min\": 8.780529058587478,\n        \"max\": 379976.0,\n        \"num_unique_values\": 8,\n        \"samples\": [\n          2008.516306293029,\n          2009.0,\n          379976.0\n        ],\n        \"semantic_type\": \"\",\n        \"description\": \"\"\n      }\n    },\n    {\n      \"column\": \"\\ub3c4\\uc11c\\uad8c\\uc218\",\n      \"properties\": {\n        \"dtype\": \"number\",\n        \"std\": 134339.55023517678,\n        \"min\": 0.0,\n        \"max\": 379976.0,\n        \"num_unique_values\": 6,\n        \"samples\": [\n          379976.0,\n          1.135874371012906,\n          40.0\n        ],\n        \"semantic_type\": \"\",\n        \"description\": \"\"\n      }\n    },\n    {\n      \"column\": \"\\ub300\\ucd9c\\uac74\\uc218\",\n      \"properties\": {\n        \"dtype\": \"number\",\n        \"std\": 134251.39979373905,\n        \"min\": 0.0,\n        \"max\": 379976.0,\n        \"num_unique_values\": 8,\n        \"samples\": [\n          11.504629239741458,\n          6.0,\n          379976.0\n        ],\n        \"semantic_type\": \"\",\n        \"description\": \"\"\n      }\n    }\n  ]\n}"
            }
          },
          "metadata": {},
          "execution_count": 3
        }
      ],
      "source": [
        "ns_book6.describe()"
      ]
    },
    {
      "cell_type": "code",
      "execution_count": 4,
      "id": "2b7c01bf",
      "metadata": {
        "id": "2b7c01bf",
        "outputId": "2845018b-ee8b-4182-ec0e-3c1a558ec642",
        "colab": {
          "base_uri": "https://localhost:8080/"
        }
      },
      "outputs": [
        {
          "output_type": "execute_result",
          "data": {
            "text/plain": [
              "3206"
            ]
          },
          "metadata": {},
          "execution_count": 4
        }
      ],
      "source": [
        "sum(ns_book6['도서권수']==0)"
      ]
    },
    {
      "cell_type": "code",
      "execution_count": 5,
      "id": "16d05599",
      "metadata": {
        "id": "16d05599"
      },
      "outputs": [],
      "source": [
        "ns_book7 = ns_book6[ns_book6['도서권수']>0]"
      ]
    },
    {
      "cell_type": "code",
      "execution_count": 6,
      "id": "af207f47",
      "metadata": {
        "id": "af207f47",
        "outputId": "6c5b7058-ca2b-414c-941f-944012ea0258",
        "colab": {
          "base_uri": "https://localhost:8080/",
          "height": 331
        }
      },
      "outputs": [
        {
          "output_type": "execute_result",
          "data": {
            "text/plain": [
              "                  번호           발행년도           도서권수           대출건수\n",
              "count  376770.000000  376770.000000  376770.000000  376770.000000\n",
              "mean   202977.476649    2008.460076       1.145540      11.593439\n",
              "std    115298.245784       8.773148       0.473853      19.279409\n",
              "min         1.000000    1947.000000       1.000000       0.000000\n",
              "30%    124649.700000    2004.000000       1.000000       2.000000\n",
              "50%    204550.500000    2009.000000       1.000000       6.000000\n",
              "60%    243537.400000    2011.000000       1.000000       8.000000\n",
              "90%    361341.100000    2018.000000       2.000000      28.000000\n",
              "max    401681.000000    2650.000000      40.000000    1765.000000"
            ],
            "text/html": [
              "\n",
              "  <div id=\"df-036c9332-0d1a-4966-8a5e-ac95f1b22fc7\" class=\"colab-df-container\">\n",
              "    <div>\n",
              "<style scoped>\n",
              "    .dataframe tbody tr th:only-of-type {\n",
              "        vertical-align: middle;\n",
              "    }\n",
              "\n",
              "    .dataframe tbody tr th {\n",
              "        vertical-align: top;\n",
              "    }\n",
              "\n",
              "    .dataframe thead th {\n",
              "        text-align: right;\n",
              "    }\n",
              "</style>\n",
              "<table border=\"1\" class=\"dataframe\">\n",
              "  <thead>\n",
              "    <tr style=\"text-align: right;\">\n",
              "      <th></th>\n",
              "      <th>번호</th>\n",
              "      <th>발행년도</th>\n",
              "      <th>도서권수</th>\n",
              "      <th>대출건수</th>\n",
              "    </tr>\n",
              "  </thead>\n",
              "  <tbody>\n",
              "    <tr>\n",
              "      <th>count</th>\n",
              "      <td>376770.000000</td>\n",
              "      <td>376770.000000</td>\n",
              "      <td>376770.000000</td>\n",
              "      <td>376770.000000</td>\n",
              "    </tr>\n",
              "    <tr>\n",
              "      <th>mean</th>\n",
              "      <td>202977.476649</td>\n",
              "      <td>2008.460076</td>\n",
              "      <td>1.145540</td>\n",
              "      <td>11.593439</td>\n",
              "    </tr>\n",
              "    <tr>\n",
              "      <th>std</th>\n",
              "      <td>115298.245784</td>\n",
              "      <td>8.773148</td>\n",
              "      <td>0.473853</td>\n",
              "      <td>19.279409</td>\n",
              "    </tr>\n",
              "    <tr>\n",
              "      <th>min</th>\n",
              "      <td>1.000000</td>\n",
              "      <td>1947.000000</td>\n",
              "      <td>1.000000</td>\n",
              "      <td>0.000000</td>\n",
              "    </tr>\n",
              "    <tr>\n",
              "      <th>30%</th>\n",
              "      <td>124649.700000</td>\n",
              "      <td>2004.000000</td>\n",
              "      <td>1.000000</td>\n",
              "      <td>2.000000</td>\n",
              "    </tr>\n",
              "    <tr>\n",
              "      <th>50%</th>\n",
              "      <td>204550.500000</td>\n",
              "      <td>2009.000000</td>\n",
              "      <td>1.000000</td>\n",
              "      <td>6.000000</td>\n",
              "    </tr>\n",
              "    <tr>\n",
              "      <th>60%</th>\n",
              "      <td>243537.400000</td>\n",
              "      <td>2011.000000</td>\n",
              "      <td>1.000000</td>\n",
              "      <td>8.000000</td>\n",
              "    </tr>\n",
              "    <tr>\n",
              "      <th>90%</th>\n",
              "      <td>361341.100000</td>\n",
              "      <td>2018.000000</td>\n",
              "      <td>2.000000</td>\n",
              "      <td>28.000000</td>\n",
              "    </tr>\n",
              "    <tr>\n",
              "      <th>max</th>\n",
              "      <td>401681.000000</td>\n",
              "      <td>2650.000000</td>\n",
              "      <td>40.000000</td>\n",
              "      <td>1765.000000</td>\n",
              "    </tr>\n",
              "  </tbody>\n",
              "</table>\n",
              "</div>\n",
              "    <div class=\"colab-df-buttons\">\n",
              "\n",
              "  <div class=\"colab-df-container\">\n",
              "    <button class=\"colab-df-convert\" onclick=\"convertToInteractive('df-036c9332-0d1a-4966-8a5e-ac95f1b22fc7')\"\n",
              "            title=\"Convert this dataframe to an interactive table.\"\n",
              "            style=\"display:none;\">\n",
              "\n",
              "  <svg xmlns=\"http://www.w3.org/2000/svg\" height=\"24px\" viewBox=\"0 -960 960 960\">\n",
              "    <path d=\"M120-120v-720h720v720H120Zm60-500h600v-160H180v160Zm220 220h160v-160H400v160Zm0 220h160v-160H400v160ZM180-400h160v-160H180v160Zm440 0h160v-160H620v160ZM180-180h160v-160H180v160Zm440 0h160v-160H620v160Z\"/>\n",
              "  </svg>\n",
              "    </button>\n",
              "\n",
              "  <style>\n",
              "    .colab-df-container {\n",
              "      display:flex;\n",
              "      gap: 12px;\n",
              "    }\n",
              "\n",
              "    .colab-df-convert {\n",
              "      background-color: #E8F0FE;\n",
              "      border: none;\n",
              "      border-radius: 50%;\n",
              "      cursor: pointer;\n",
              "      display: none;\n",
              "      fill: #1967D2;\n",
              "      height: 32px;\n",
              "      padding: 0 0 0 0;\n",
              "      width: 32px;\n",
              "    }\n",
              "\n",
              "    .colab-df-convert:hover {\n",
              "      background-color: #E2EBFA;\n",
              "      box-shadow: 0px 1px 2px rgba(60, 64, 67, 0.3), 0px 1px 3px 1px rgba(60, 64, 67, 0.15);\n",
              "      fill: #174EA6;\n",
              "    }\n",
              "\n",
              "    .colab-df-buttons div {\n",
              "      margin-bottom: 4px;\n",
              "    }\n",
              "\n",
              "    [theme=dark] .colab-df-convert {\n",
              "      background-color: #3B4455;\n",
              "      fill: #D2E3FC;\n",
              "    }\n",
              "\n",
              "    [theme=dark] .colab-df-convert:hover {\n",
              "      background-color: #434B5C;\n",
              "      box-shadow: 0px 1px 3px 1px rgba(0, 0, 0, 0.15);\n",
              "      filter: drop-shadow(0px 1px 2px rgba(0, 0, 0, 0.3));\n",
              "      fill: #FFFFFF;\n",
              "    }\n",
              "  </style>\n",
              "\n",
              "    <script>\n",
              "      const buttonEl =\n",
              "        document.querySelector('#df-036c9332-0d1a-4966-8a5e-ac95f1b22fc7 button.colab-df-convert');\n",
              "      buttonEl.style.display =\n",
              "        google.colab.kernel.accessAllowed ? 'block' : 'none';\n",
              "\n",
              "      async function convertToInteractive(key) {\n",
              "        const element = document.querySelector('#df-036c9332-0d1a-4966-8a5e-ac95f1b22fc7');\n",
              "        const dataTable =\n",
              "          await google.colab.kernel.invokeFunction('convertToInteractive',\n",
              "                                                    [key], {});\n",
              "        if (!dataTable) return;\n",
              "\n",
              "        const docLinkHtml = 'Like what you see? Visit the ' +\n",
              "          '<a target=\"_blank\" href=https://colab.research.google.com/notebooks/data_table.ipynb>data table notebook</a>'\n",
              "          + ' to learn more about interactive tables.';\n",
              "        element.innerHTML = '';\n",
              "        dataTable['output_type'] = 'display_data';\n",
              "        await google.colab.output.renderOutput(dataTable, element);\n",
              "        const docLink = document.createElement('div');\n",
              "        docLink.innerHTML = docLinkHtml;\n",
              "        element.appendChild(docLink);\n",
              "      }\n",
              "    </script>\n",
              "  </div>\n",
              "\n",
              "\n",
              "<div id=\"df-3e1ed867-50d9-4ab4-a3a7-2f1eb93fc626\">\n",
              "  <button class=\"colab-df-quickchart\" onclick=\"quickchart('df-3e1ed867-50d9-4ab4-a3a7-2f1eb93fc626')\"\n",
              "            title=\"Suggest charts\"\n",
              "            style=\"display:none;\">\n",
              "\n",
              "<svg xmlns=\"http://www.w3.org/2000/svg\" height=\"24px\"viewBox=\"0 0 24 24\"\n",
              "     width=\"24px\">\n",
              "    <g>\n",
              "        <path d=\"M19 3H5c-1.1 0-2 .9-2 2v14c0 1.1.9 2 2 2h14c1.1 0 2-.9 2-2V5c0-1.1-.9-2-2-2zM9 17H7v-7h2v7zm4 0h-2V7h2v10zm4 0h-2v-4h2v4z\"/>\n",
              "    </g>\n",
              "</svg>\n",
              "  </button>\n",
              "\n",
              "<style>\n",
              "  .colab-df-quickchart {\n",
              "      --bg-color: #E8F0FE;\n",
              "      --fill-color: #1967D2;\n",
              "      --hover-bg-color: #E2EBFA;\n",
              "      --hover-fill-color: #174EA6;\n",
              "      --disabled-fill-color: #AAA;\n",
              "      --disabled-bg-color: #DDD;\n",
              "  }\n",
              "\n",
              "  [theme=dark] .colab-df-quickchart {\n",
              "      --bg-color: #3B4455;\n",
              "      --fill-color: #D2E3FC;\n",
              "      --hover-bg-color: #434B5C;\n",
              "      --hover-fill-color: #FFFFFF;\n",
              "      --disabled-bg-color: #3B4455;\n",
              "      --disabled-fill-color: #666;\n",
              "  }\n",
              "\n",
              "  .colab-df-quickchart {\n",
              "    background-color: var(--bg-color);\n",
              "    border: none;\n",
              "    border-radius: 50%;\n",
              "    cursor: pointer;\n",
              "    display: none;\n",
              "    fill: var(--fill-color);\n",
              "    height: 32px;\n",
              "    padding: 0;\n",
              "    width: 32px;\n",
              "  }\n",
              "\n",
              "  .colab-df-quickchart:hover {\n",
              "    background-color: var(--hover-bg-color);\n",
              "    box-shadow: 0 1px 2px rgba(60, 64, 67, 0.3), 0 1px 3px 1px rgba(60, 64, 67, 0.15);\n",
              "    fill: var(--button-hover-fill-color);\n",
              "  }\n",
              "\n",
              "  .colab-df-quickchart-complete:disabled,\n",
              "  .colab-df-quickchart-complete:disabled:hover {\n",
              "    background-color: var(--disabled-bg-color);\n",
              "    fill: var(--disabled-fill-color);\n",
              "    box-shadow: none;\n",
              "  }\n",
              "\n",
              "  .colab-df-spinner {\n",
              "    border: 2px solid var(--fill-color);\n",
              "    border-color: transparent;\n",
              "    border-bottom-color: var(--fill-color);\n",
              "    animation:\n",
              "      spin 1s steps(1) infinite;\n",
              "  }\n",
              "\n",
              "  @keyframes spin {\n",
              "    0% {\n",
              "      border-color: transparent;\n",
              "      border-bottom-color: var(--fill-color);\n",
              "      border-left-color: var(--fill-color);\n",
              "    }\n",
              "    20% {\n",
              "      border-color: transparent;\n",
              "      border-left-color: var(--fill-color);\n",
              "      border-top-color: var(--fill-color);\n",
              "    }\n",
              "    30% {\n",
              "      border-color: transparent;\n",
              "      border-left-color: var(--fill-color);\n",
              "      border-top-color: var(--fill-color);\n",
              "      border-right-color: var(--fill-color);\n",
              "    }\n",
              "    40% {\n",
              "      border-color: transparent;\n",
              "      border-right-color: var(--fill-color);\n",
              "      border-top-color: var(--fill-color);\n",
              "    }\n",
              "    60% {\n",
              "      border-color: transparent;\n",
              "      border-right-color: var(--fill-color);\n",
              "    }\n",
              "    80% {\n",
              "      border-color: transparent;\n",
              "      border-right-color: var(--fill-color);\n",
              "      border-bottom-color: var(--fill-color);\n",
              "    }\n",
              "    90% {\n",
              "      border-color: transparent;\n",
              "      border-bottom-color: var(--fill-color);\n",
              "    }\n",
              "  }\n",
              "</style>\n",
              "\n",
              "  <script>\n",
              "    async function quickchart(key) {\n",
              "      const quickchartButtonEl =\n",
              "        document.querySelector('#' + key + ' button');\n",
              "      quickchartButtonEl.disabled = true;  // To prevent multiple clicks.\n",
              "      quickchartButtonEl.classList.add('colab-df-spinner');\n",
              "      try {\n",
              "        const charts = await google.colab.kernel.invokeFunction(\n",
              "            'suggestCharts', [key], {});\n",
              "      } catch (error) {\n",
              "        console.error('Error during call to suggestCharts:', error);\n",
              "      }\n",
              "      quickchartButtonEl.classList.remove('colab-df-spinner');\n",
              "      quickchartButtonEl.classList.add('colab-df-quickchart-complete');\n",
              "    }\n",
              "    (() => {\n",
              "      let quickchartButtonEl =\n",
              "        document.querySelector('#df-3e1ed867-50d9-4ab4-a3a7-2f1eb93fc626 button');\n",
              "      quickchartButtonEl.style.display =\n",
              "        google.colab.kernel.accessAllowed ? 'block' : 'none';\n",
              "    })();\n",
              "  </script>\n",
              "</div>\n",
              "\n",
              "    </div>\n",
              "  </div>\n"
            ],
            "application/vnd.google.colaboratory.intrinsic+json": {
              "type": "dataframe",
              "summary": "{\n  \"name\": \"ns_book7\",\n  \"rows\": 9,\n  \"fields\": [\n    {\n      \"column\": \"\\ubc88\\ud638\",\n      \"properties\": {\n        \"dtype\": \"number\",\n        \"std\": 135467.4658926083,\n        \"min\": 1.0,\n        \"max\": 401681.0,\n        \"num_unique_values\": 9,\n        \"samples\": [\n          361341.10000000003,\n          202977.47664888392,\n          204550.5\n        ],\n        \"semantic_type\": \"\",\n        \"description\": \"\"\n      }\n    },\n    {\n      \"column\": \"\\ubc1c\\ud589\\ub144\\ub3c4\",\n      \"properties\": {\n        \"dtype\": \"number\",\n        \"std\": 124981.40653948447,\n        \"min\": 8.773148025571693,\n        \"max\": 376770.0,\n        \"num_unique_values\": 9,\n        \"samples\": [\n          2018.0,\n          2008.460076439207,\n          2009.0\n        ],\n        \"semantic_type\": \"\",\n        \"description\": \"\"\n      }\n    },\n    {\n      \"column\": \"\\ub3c4\\uc11c\\uad8c\\uc218\",\n      \"properties\": {\n        \"dtype\": \"number\",\n        \"std\": 125588.0165185899,\n        \"min\": 0.4738526486171246,\n        \"max\": 376770.0,\n        \"num_unique_values\": 6,\n        \"samples\": [\n          376770.0,\n          1.14553971919208,\n          40.0\n        ],\n        \"semantic_type\": \"\",\n        \"description\": \"\"\n      }\n    },\n    {\n      \"column\": \"\\ub300\\ucd9c\\uac74\\uc218\",\n      \"properties\": {\n        \"dtype\": \"number\",\n        \"std\": 125514.6798548991,\n        \"min\": 0.0,\n        \"max\": 376770.0,\n        \"num_unique_values\": 9,\n        \"samples\": [\n          28.0,\n          11.593438968070707,\n          6.0\n        ],\n        \"semantic_type\": \"\",\n        \"description\": \"\"\n      }\n    }\n  ]\n}"
            }
          },
          "metadata": {},
          "execution_count": 6
        }
      ],
      "source": [
        "ns_book7.describe(percentiles=[0.3, 0.6, 0.9])"
      ]
    },
    {
      "cell_type": "code",
      "execution_count": 7,
      "id": "9b84ae82",
      "metadata": {
        "id": "9b84ae82",
        "outputId": "7389b96f-9cea-4737-d6ba-863d99f482ae",
        "colab": {
          "base_uri": "https://localhost:8080/",
          "height": 175
        }
      },
      "outputs": [
        {
          "output_type": "execute_result",
          "data": {
            "text/plain": [
              "           도서명             저자     출판사           ISBN        세트 ISBN    부가기호  \\\n",
              "count   376770         376770  376770         376770          55866  308252   \n",
              "unique  336408         248850   21875         350810          14875      17   \n",
              "top      승정원일기  세종대왕기념사업회 [편]    문학동네  9788937430299  9788937460005       0   \n",
              "freq       250            303    4410            206            702  158235   \n",
              "\n",
              "            권  주제분류번호        등록일자  \n",
              "count   61793  359792      376770  \n",
              "unique    834   12467        4562  \n",
              "top         1   813.6  1970-01-01  \n",
              "freq    13282   14816       28185  "
            ],
            "text/html": [
              "\n",
              "  <div id=\"df-1f42a60f-1eff-4eaa-9250-7c061edec8bf\" class=\"colab-df-container\">\n",
              "    <div>\n",
              "<style scoped>\n",
              "    .dataframe tbody tr th:only-of-type {\n",
              "        vertical-align: middle;\n",
              "    }\n",
              "\n",
              "    .dataframe tbody tr th {\n",
              "        vertical-align: top;\n",
              "    }\n",
              "\n",
              "    .dataframe thead th {\n",
              "        text-align: right;\n",
              "    }\n",
              "</style>\n",
              "<table border=\"1\" class=\"dataframe\">\n",
              "  <thead>\n",
              "    <tr style=\"text-align: right;\">\n",
              "      <th></th>\n",
              "      <th>도서명</th>\n",
              "      <th>저자</th>\n",
              "      <th>출판사</th>\n",
              "      <th>ISBN</th>\n",
              "      <th>세트 ISBN</th>\n",
              "      <th>부가기호</th>\n",
              "      <th>권</th>\n",
              "      <th>주제분류번호</th>\n",
              "      <th>등록일자</th>\n",
              "    </tr>\n",
              "  </thead>\n",
              "  <tbody>\n",
              "    <tr>\n",
              "      <th>count</th>\n",
              "      <td>376770</td>\n",
              "      <td>376770</td>\n",
              "      <td>376770</td>\n",
              "      <td>376770</td>\n",
              "      <td>55866</td>\n",
              "      <td>308252</td>\n",
              "      <td>61793</td>\n",
              "      <td>359792</td>\n",
              "      <td>376770</td>\n",
              "    </tr>\n",
              "    <tr>\n",
              "      <th>unique</th>\n",
              "      <td>336408</td>\n",
              "      <td>248850</td>\n",
              "      <td>21875</td>\n",
              "      <td>350810</td>\n",
              "      <td>14875</td>\n",
              "      <td>17</td>\n",
              "      <td>834</td>\n",
              "      <td>12467</td>\n",
              "      <td>4562</td>\n",
              "    </tr>\n",
              "    <tr>\n",
              "      <th>top</th>\n",
              "      <td>승정원일기</td>\n",
              "      <td>세종대왕기념사업회 [편]</td>\n",
              "      <td>문학동네</td>\n",
              "      <td>9788937430299</td>\n",
              "      <td>9788937460005</td>\n",
              "      <td>0</td>\n",
              "      <td>1</td>\n",
              "      <td>813.6</td>\n",
              "      <td>1970-01-01</td>\n",
              "    </tr>\n",
              "    <tr>\n",
              "      <th>freq</th>\n",
              "      <td>250</td>\n",
              "      <td>303</td>\n",
              "      <td>4410</td>\n",
              "      <td>206</td>\n",
              "      <td>702</td>\n",
              "      <td>158235</td>\n",
              "      <td>13282</td>\n",
              "      <td>14816</td>\n",
              "      <td>28185</td>\n",
              "    </tr>\n",
              "  </tbody>\n",
              "</table>\n",
              "</div>\n",
              "    <div class=\"colab-df-buttons\">\n",
              "\n",
              "  <div class=\"colab-df-container\">\n",
              "    <button class=\"colab-df-convert\" onclick=\"convertToInteractive('df-1f42a60f-1eff-4eaa-9250-7c061edec8bf')\"\n",
              "            title=\"Convert this dataframe to an interactive table.\"\n",
              "            style=\"display:none;\">\n",
              "\n",
              "  <svg xmlns=\"http://www.w3.org/2000/svg\" height=\"24px\" viewBox=\"0 -960 960 960\">\n",
              "    <path d=\"M120-120v-720h720v720H120Zm60-500h600v-160H180v160Zm220 220h160v-160H400v160Zm0 220h160v-160H400v160ZM180-400h160v-160H180v160Zm440 0h160v-160H620v160ZM180-180h160v-160H180v160Zm440 0h160v-160H620v160Z\"/>\n",
              "  </svg>\n",
              "    </button>\n",
              "\n",
              "  <style>\n",
              "    .colab-df-container {\n",
              "      display:flex;\n",
              "      gap: 12px;\n",
              "    }\n",
              "\n",
              "    .colab-df-convert {\n",
              "      background-color: #E8F0FE;\n",
              "      border: none;\n",
              "      border-radius: 50%;\n",
              "      cursor: pointer;\n",
              "      display: none;\n",
              "      fill: #1967D2;\n",
              "      height: 32px;\n",
              "      padding: 0 0 0 0;\n",
              "      width: 32px;\n",
              "    }\n",
              "\n",
              "    .colab-df-convert:hover {\n",
              "      background-color: #E2EBFA;\n",
              "      box-shadow: 0px 1px 2px rgba(60, 64, 67, 0.3), 0px 1px 3px 1px rgba(60, 64, 67, 0.15);\n",
              "      fill: #174EA6;\n",
              "    }\n",
              "\n",
              "    .colab-df-buttons div {\n",
              "      margin-bottom: 4px;\n",
              "    }\n",
              "\n",
              "    [theme=dark] .colab-df-convert {\n",
              "      background-color: #3B4455;\n",
              "      fill: #D2E3FC;\n",
              "    }\n",
              "\n",
              "    [theme=dark] .colab-df-convert:hover {\n",
              "      background-color: #434B5C;\n",
              "      box-shadow: 0px 1px 3px 1px rgba(0, 0, 0, 0.15);\n",
              "      filter: drop-shadow(0px 1px 2px rgba(0, 0, 0, 0.3));\n",
              "      fill: #FFFFFF;\n",
              "    }\n",
              "  </style>\n",
              "\n",
              "    <script>\n",
              "      const buttonEl =\n",
              "        document.querySelector('#df-1f42a60f-1eff-4eaa-9250-7c061edec8bf button.colab-df-convert');\n",
              "      buttonEl.style.display =\n",
              "        google.colab.kernel.accessAllowed ? 'block' : 'none';\n",
              "\n",
              "      async function convertToInteractive(key) {\n",
              "        const element = document.querySelector('#df-1f42a60f-1eff-4eaa-9250-7c061edec8bf');\n",
              "        const dataTable =\n",
              "          await google.colab.kernel.invokeFunction('convertToInteractive',\n",
              "                                                    [key], {});\n",
              "        if (!dataTable) return;\n",
              "\n",
              "        const docLinkHtml = 'Like what you see? Visit the ' +\n",
              "          '<a target=\"_blank\" href=https://colab.research.google.com/notebooks/data_table.ipynb>data table notebook</a>'\n",
              "          + ' to learn more about interactive tables.';\n",
              "        element.innerHTML = '';\n",
              "        dataTable['output_type'] = 'display_data';\n",
              "        await google.colab.output.renderOutput(dataTable, element);\n",
              "        const docLink = document.createElement('div');\n",
              "        docLink.innerHTML = docLinkHtml;\n",
              "        element.appendChild(docLink);\n",
              "      }\n",
              "    </script>\n",
              "  </div>\n",
              "\n",
              "\n",
              "<div id=\"df-a4f286d4-4a1c-415f-9d23-a386f5b1791f\">\n",
              "  <button class=\"colab-df-quickchart\" onclick=\"quickchart('df-a4f286d4-4a1c-415f-9d23-a386f5b1791f')\"\n",
              "            title=\"Suggest charts\"\n",
              "            style=\"display:none;\">\n",
              "\n",
              "<svg xmlns=\"http://www.w3.org/2000/svg\" height=\"24px\"viewBox=\"0 0 24 24\"\n",
              "     width=\"24px\">\n",
              "    <g>\n",
              "        <path d=\"M19 3H5c-1.1 0-2 .9-2 2v14c0 1.1.9 2 2 2h14c1.1 0 2-.9 2-2V5c0-1.1-.9-2-2-2zM9 17H7v-7h2v7zm4 0h-2V7h2v10zm4 0h-2v-4h2v4z\"/>\n",
              "    </g>\n",
              "</svg>\n",
              "  </button>\n",
              "\n",
              "<style>\n",
              "  .colab-df-quickchart {\n",
              "      --bg-color: #E8F0FE;\n",
              "      --fill-color: #1967D2;\n",
              "      --hover-bg-color: #E2EBFA;\n",
              "      --hover-fill-color: #174EA6;\n",
              "      --disabled-fill-color: #AAA;\n",
              "      --disabled-bg-color: #DDD;\n",
              "  }\n",
              "\n",
              "  [theme=dark] .colab-df-quickchart {\n",
              "      --bg-color: #3B4455;\n",
              "      --fill-color: #D2E3FC;\n",
              "      --hover-bg-color: #434B5C;\n",
              "      --hover-fill-color: #FFFFFF;\n",
              "      --disabled-bg-color: #3B4455;\n",
              "      --disabled-fill-color: #666;\n",
              "  }\n",
              "\n",
              "  .colab-df-quickchart {\n",
              "    background-color: var(--bg-color);\n",
              "    border: none;\n",
              "    border-radius: 50%;\n",
              "    cursor: pointer;\n",
              "    display: none;\n",
              "    fill: var(--fill-color);\n",
              "    height: 32px;\n",
              "    padding: 0;\n",
              "    width: 32px;\n",
              "  }\n",
              "\n",
              "  .colab-df-quickchart:hover {\n",
              "    background-color: var(--hover-bg-color);\n",
              "    box-shadow: 0 1px 2px rgba(60, 64, 67, 0.3), 0 1px 3px 1px rgba(60, 64, 67, 0.15);\n",
              "    fill: var(--button-hover-fill-color);\n",
              "  }\n",
              "\n",
              "  .colab-df-quickchart-complete:disabled,\n",
              "  .colab-df-quickchart-complete:disabled:hover {\n",
              "    background-color: var(--disabled-bg-color);\n",
              "    fill: var(--disabled-fill-color);\n",
              "    box-shadow: none;\n",
              "  }\n",
              "\n",
              "  .colab-df-spinner {\n",
              "    border: 2px solid var(--fill-color);\n",
              "    border-color: transparent;\n",
              "    border-bottom-color: var(--fill-color);\n",
              "    animation:\n",
              "      spin 1s steps(1) infinite;\n",
              "  }\n",
              "\n",
              "  @keyframes spin {\n",
              "    0% {\n",
              "      border-color: transparent;\n",
              "      border-bottom-color: var(--fill-color);\n",
              "      border-left-color: var(--fill-color);\n",
              "    }\n",
              "    20% {\n",
              "      border-color: transparent;\n",
              "      border-left-color: var(--fill-color);\n",
              "      border-top-color: var(--fill-color);\n",
              "    }\n",
              "    30% {\n",
              "      border-color: transparent;\n",
              "      border-left-color: var(--fill-color);\n",
              "      border-top-color: var(--fill-color);\n",
              "      border-right-color: var(--fill-color);\n",
              "    }\n",
              "    40% {\n",
              "      border-color: transparent;\n",
              "      border-right-color: var(--fill-color);\n",
              "      border-top-color: var(--fill-color);\n",
              "    }\n",
              "    60% {\n",
              "      border-color: transparent;\n",
              "      border-right-color: var(--fill-color);\n",
              "    }\n",
              "    80% {\n",
              "      border-color: transparent;\n",
              "      border-right-color: var(--fill-color);\n",
              "      border-bottom-color: var(--fill-color);\n",
              "    }\n",
              "    90% {\n",
              "      border-color: transparent;\n",
              "      border-bottom-color: var(--fill-color);\n",
              "    }\n",
              "  }\n",
              "</style>\n",
              "\n",
              "  <script>\n",
              "    async function quickchart(key) {\n",
              "      const quickchartButtonEl =\n",
              "        document.querySelector('#' + key + ' button');\n",
              "      quickchartButtonEl.disabled = true;  // To prevent multiple clicks.\n",
              "      quickchartButtonEl.classList.add('colab-df-spinner');\n",
              "      try {\n",
              "        const charts = await google.colab.kernel.invokeFunction(\n",
              "            'suggestCharts', [key], {});\n",
              "      } catch (error) {\n",
              "        console.error('Error during call to suggestCharts:', error);\n",
              "      }\n",
              "      quickchartButtonEl.classList.remove('colab-df-spinner');\n",
              "      quickchartButtonEl.classList.add('colab-df-quickchart-complete');\n",
              "    }\n",
              "    (() => {\n",
              "      let quickchartButtonEl =\n",
              "        document.querySelector('#df-a4f286d4-4a1c-415f-9d23-a386f5b1791f button');\n",
              "      quickchartButtonEl.style.display =\n",
              "        google.colab.kernel.accessAllowed ? 'block' : 'none';\n",
              "    })();\n",
              "  </script>\n",
              "</div>\n",
              "\n",
              "    </div>\n",
              "  </div>\n"
            ],
            "application/vnd.google.colaboratory.intrinsic+json": {
              "type": "dataframe",
              "summary": "{\n  \"name\": \"ns_book7\",\n  \"rows\": 4,\n  \"fields\": [\n    {\n      \"column\": \"\\ub3c4\\uc11c\\uba85\",\n      \"properties\": {\n        \"dtype\": \"string\",\n        \"num_unique_values\": 4,\n        \"samples\": [\n          336408,\n          \"250\",\n          \"376770\"\n        ],\n        \"semantic_type\": \"\",\n        \"description\": \"\"\n      }\n    },\n    {\n      \"column\": \"\\uc800\\uc790\",\n      \"properties\": {\n        \"dtype\": \"string\",\n        \"num_unique_values\": 4,\n        \"samples\": [\n          248850,\n          \"303\",\n          \"376770\"\n        ],\n        \"semantic_type\": \"\",\n        \"description\": \"\"\n      }\n    },\n    {\n      \"column\": \"\\ucd9c\\ud310\\uc0ac\",\n      \"properties\": {\n        \"dtype\": \"string\",\n        \"num_unique_values\": 4,\n        \"samples\": [\n          21875,\n          \"4410\",\n          \"376770\"\n        ],\n        \"semantic_type\": \"\",\n        \"description\": \"\"\n      }\n    },\n    {\n      \"column\": \"ISBN\",\n      \"properties\": {\n        \"dtype\": \"string\",\n        \"num_unique_values\": 4,\n        \"samples\": [\n          350810,\n          \"206\",\n          \"376770\"\n        ],\n        \"semantic_type\": \"\",\n        \"description\": \"\"\n      }\n    },\n    {\n      \"column\": \"\\uc138\\ud2b8 ISBN\",\n      \"properties\": {\n        \"dtype\": \"string\",\n        \"num_unique_values\": 4,\n        \"samples\": [\n          14875,\n          \"702\",\n          \"55866\"\n        ],\n        \"semantic_type\": \"\",\n        \"description\": \"\"\n      }\n    },\n    {\n      \"column\": \"\\ubd80\\uac00\\uae30\\ud638\",\n      \"properties\": {\n        \"dtype\": \"string\",\n        \"num_unique_values\": 4,\n        \"samples\": [\n          17,\n          \"158235\",\n          \"308252\"\n        ],\n        \"semantic_type\": \"\",\n        \"description\": \"\"\n      }\n    },\n    {\n      \"column\": \"\\uad8c\",\n      \"properties\": {\n        \"dtype\": \"string\",\n        \"num_unique_values\": 4,\n        \"samples\": [\n          834,\n          \"13282\",\n          \"61793\"\n        ],\n        \"semantic_type\": \"\",\n        \"description\": \"\"\n      }\n    },\n    {\n      \"column\": \"\\uc8fc\\uc81c\\ubd84\\ub958\\ubc88\\ud638\",\n      \"properties\": {\n        \"dtype\": \"string\",\n        \"num_unique_values\": 4,\n        \"samples\": [\n          12467,\n          \"14816\",\n          \"359792\"\n        ],\n        \"semantic_type\": \"\",\n        \"description\": \"\"\n      }\n    },\n    {\n      \"column\": \"\\ub4f1\\ub85d\\uc77c\\uc790\",\n      \"properties\": {\n        \"dtype\": \"date\",\n        \"min\": \"1970-01-01 00:00:00\",\n        \"max\": \"1970-01-01 00:00:00.000376770\",\n        \"num_unique_values\": 4,\n        \"samples\": [\n          4562,\n          \"28185\",\n          \"376770\"\n        ],\n        \"semantic_type\": \"\",\n        \"description\": \"\"\n      }\n    }\n  ]\n}"
            }
          },
          "metadata": {},
          "execution_count": 7
        }
      ],
      "source": [
        "ns_book7.describe(include='object')"
      ]
    },
    {
      "cell_type": "markdown",
      "id": "0cc5aab1",
      "metadata": {
        "id": "0cc5aab1"
      },
      "source": [
        "## 평균"
      ]
    },
    {
      "cell_type": "markdown",
      "id": "545fe9ac",
      "metadata": {
        "id": "545fe9ac"
      },
      "source": [
        "$평균 = \\dfrac{a + b + c}{3}$\n",
        "\n",
        "$평균 = \\dfrac{x_1 + x_2 + x_3}{3}$"
      ]
    },
    {
      "cell_type": "code",
      "execution_count": 8,
      "id": "d6b0b6df",
      "metadata": {
        "id": "d6b0b6df",
        "outputId": "326d9aaa-0d39-4405-bd4b-f6917125fc5c",
        "colab": {
          "base_uri": "https://localhost:8080/"
        }
      },
      "outputs": [
        {
          "output_type": "stream",
          "name": "stdout",
          "text": [
            "평균: 20.0\n"
          ]
        }
      ],
      "source": [
        "x = [10, 20, 30]\n",
        "sum = 0\n",
        "for i in range(3):\n",
        "    sum += x[i]\n",
        "print(\"평균:\", sum / len(x))"
      ]
    },
    {
      "cell_type": "markdown",
      "id": "f177af39",
      "metadata": {
        "id": "f177af39"
      },
      "source": [
        "$평균 = \\dfrac{x_1 + x_2 + x_3}{3} = \\dfrac{\\sum_{i=1}^{3} x_i}{3}$\n",
        "\n",
        "$평균 대출건수 = \\dfrac{\\sum_{i=1}^{376770} x_i}{376770}$"
      ]
    },
    {
      "cell_type": "code",
      "execution_count": 9,
      "id": "158b5986",
      "metadata": {
        "id": "158b5986",
        "outputId": "164803df-dd09-48e5-ea1b-b7be50dfad8c",
        "colab": {
          "base_uri": "https://localhost:8080/"
        }
      },
      "outputs": [
        {
          "output_type": "execute_result",
          "data": {
            "text/plain": [
              "11.593438968070707"
            ]
          },
          "metadata": {},
          "execution_count": 9
        }
      ],
      "source": [
        "ns_book7['대출건수'].mean()"
      ]
    },
    {
      "cell_type": "markdown",
      "id": "cf1edb20",
      "metadata": {
        "id": "cf1edb20"
      },
      "source": [
        "## 중앙값"
      ]
    },
    {
      "cell_type": "code",
      "execution_count": 10,
      "id": "97c4debc",
      "metadata": {
        "id": "97c4debc",
        "outputId": "0f0ad6d7-a27e-4e95-a9a2-87de73798685",
        "colab": {
          "base_uri": "https://localhost:8080/"
        }
      },
      "outputs": [
        {
          "output_type": "execute_result",
          "data": {
            "text/plain": [
              "6.0"
            ]
          },
          "metadata": {},
          "execution_count": 10
        }
      ],
      "source": [
        "ns_book7['대출건수'].median()"
      ]
    },
    {
      "cell_type": "code",
      "execution_count": 11,
      "id": "9bab8059",
      "metadata": {
        "id": "9bab8059",
        "outputId": "f00471e5-7bef-49f2-bad0-de12820ca6d0",
        "colab": {
          "base_uri": "https://localhost:8080/",
          "height": 115
        }
      },
      "outputs": [
        {
          "output_type": "execute_result",
          "data": {
            "text/plain": [
              "0    2.5\n",
              "dtype: float64"
            ],
            "text/html": [
              "<div>\n",
              "<style scoped>\n",
              "    .dataframe tbody tr th:only-of-type {\n",
              "        vertical-align: middle;\n",
              "    }\n",
              "\n",
              "    .dataframe tbody tr th {\n",
              "        vertical-align: top;\n",
              "    }\n",
              "\n",
              "    .dataframe thead th {\n",
              "        text-align: right;\n",
              "    }\n",
              "</style>\n",
              "<table border=\"1\" class=\"dataframe\">\n",
              "  <thead>\n",
              "    <tr style=\"text-align: right;\">\n",
              "      <th></th>\n",
              "      <th>0</th>\n",
              "    </tr>\n",
              "  </thead>\n",
              "  <tbody>\n",
              "    <tr>\n",
              "      <th>0</th>\n",
              "      <td>2.5</td>\n",
              "    </tr>\n",
              "  </tbody>\n",
              "</table>\n",
              "</div><br><label><b>dtype:</b> float64</label>"
            ]
          },
          "metadata": {},
          "execution_count": 11
        }
      ],
      "source": [
        "temp_df = pd.DataFrame([1,2,3,4])\n",
        "temp_df.median()"
      ]
    },
    {
      "cell_type": "code",
      "execution_count": 12,
      "id": "5edb6475",
      "metadata": {
        "id": "5edb6475",
        "outputId": "9e7afb10-5968-4f53-ce9c-82d0bbff8c5f",
        "colab": {
          "base_uri": "https://localhost:8080/"
        }
      },
      "outputs": [
        {
          "output_type": "execute_result",
          "data": {
            "text/plain": [
              "183.0"
            ]
          },
          "metadata": {},
          "execution_count": 12
        }
      ],
      "source": [
        "ns_book7['대출건수'].drop_duplicates().median()"
      ]
    },
    {
      "cell_type": "markdown",
      "id": "4b2519d7",
      "metadata": {
        "id": "4b2519d7"
      },
      "source": [
        "## 최솟값, 최댓값"
      ]
    },
    {
      "cell_type": "code",
      "execution_count": 13,
      "id": "f3c6165f",
      "metadata": {
        "id": "f3c6165f",
        "outputId": "b2f3aa83-6f30-440d-a127-90a3f0a8ab69",
        "colab": {
          "base_uri": "https://localhost:8080/"
        }
      },
      "outputs": [
        {
          "output_type": "execute_result",
          "data": {
            "text/plain": [
              "0"
            ]
          },
          "metadata": {},
          "execution_count": 13
        }
      ],
      "source": [
        "ns_book7['대출건수'].min()"
      ]
    },
    {
      "cell_type": "code",
      "execution_count": 14,
      "id": "93c8c740",
      "metadata": {
        "id": "93c8c740",
        "outputId": "12ed0f06-d60a-48c8-e91c-1c817b6726f9",
        "colab": {
          "base_uri": "https://localhost:8080/"
        }
      },
      "outputs": [
        {
          "output_type": "execute_result",
          "data": {
            "text/plain": [
              "1765"
            ]
          },
          "metadata": {},
          "execution_count": 14
        }
      ],
      "source": [
        "ns_book7['대출건수'].max()"
      ]
    },
    {
      "cell_type": "markdown",
      "id": "612914f1",
      "metadata": {
        "id": "612914f1"
      },
      "source": [
        "## 분위수"
      ]
    },
    {
      "cell_type": "code",
      "execution_count": 15,
      "id": "e2826339",
      "metadata": {
        "id": "e2826339",
        "outputId": "8ae04648-1f59-4954-a859-362eb8f14fe8",
        "colab": {
          "base_uri": "https://localhost:8080/"
        }
      },
      "outputs": [
        {
          "output_type": "execute_result",
          "data": {
            "text/plain": [
              "2.0"
            ]
          },
          "metadata": {},
          "execution_count": 15
        }
      ],
      "source": [
        "ns_book7['대출건수'].quantile(0.25)"
      ]
    },
    {
      "cell_type": "code",
      "execution_count": 16,
      "id": "4aa73f32",
      "metadata": {
        "id": "4aa73f32",
        "outputId": "dcc1113f-9b12-414f-a04d-4af87688a2a3",
        "colab": {
          "base_uri": "https://localhost:8080/",
          "height": 178
        }
      },
      "outputs": [
        {
          "output_type": "execute_result",
          "data": {
            "text/plain": [
              "0.25     2.0\n",
              "0.50     6.0\n",
              "0.75    14.0\n",
              "Name: 대출건수, dtype: float64"
            ],
            "text/html": [
              "<div>\n",
              "<style scoped>\n",
              "    .dataframe tbody tr th:only-of-type {\n",
              "        vertical-align: middle;\n",
              "    }\n",
              "\n",
              "    .dataframe tbody tr th {\n",
              "        vertical-align: top;\n",
              "    }\n",
              "\n",
              "    .dataframe thead th {\n",
              "        text-align: right;\n",
              "    }\n",
              "</style>\n",
              "<table border=\"1\" class=\"dataframe\">\n",
              "  <thead>\n",
              "    <tr style=\"text-align: right;\">\n",
              "      <th></th>\n",
              "      <th>대출건수</th>\n",
              "    </tr>\n",
              "  </thead>\n",
              "  <tbody>\n",
              "    <tr>\n",
              "      <th>0.25</th>\n",
              "      <td>2.0</td>\n",
              "    </tr>\n",
              "    <tr>\n",
              "      <th>0.50</th>\n",
              "      <td>6.0</td>\n",
              "    </tr>\n",
              "    <tr>\n",
              "      <th>0.75</th>\n",
              "      <td>14.0</td>\n",
              "    </tr>\n",
              "  </tbody>\n",
              "</table>\n",
              "</div><br><label><b>dtype:</b> float64</label>"
            ]
          },
          "metadata": {},
          "execution_count": 16
        }
      ],
      "source": [
        "ns_book7['대출건수'].quantile([0.25,0.5,0.75])"
      ]
    },
    {
      "cell_type": "code",
      "execution_count": 17,
      "id": "cfa1a9c0",
      "metadata": {
        "id": "cfa1a9c0",
        "outputId": "915d3e94-2a50-45ba-92e5-8f6c690877ac",
        "colab": {
          "base_uri": "https://localhost:8080/"
        }
      },
      "outputs": [
        {
          "output_type": "execute_result",
          "data": {
            "text/plain": [
              "4.6"
            ]
          },
          "metadata": {},
          "execution_count": 17
        }
      ],
      "source": [
        "pd.Series([1,2,3,4,5]).quantile(0.9)"
      ]
    },
    {
      "cell_type": "code",
      "execution_count": 18,
      "id": "c5834799",
      "metadata": {
        "id": "c5834799",
        "outputId": "43386f17-e4a4-46bc-f3c8-29b6eb477704",
        "colab": {
          "base_uri": "https://localhost:8080/"
        }
      },
      "outputs": [
        {
          "output_type": "execute_result",
          "data": {
            "text/plain": [
              "4.6"
            ]
          },
          "metadata": {},
          "execution_count": 18
        }
      ],
      "source": [
        "4 + (0.9-0.75)*(5-4)/(1.0-0.75)"
      ]
    },
    {
      "cell_type": "code",
      "execution_count": 19,
      "id": "f96f7126",
      "metadata": {
        "id": "f96f7126",
        "outputId": "c5964359-f395-4885-8c48-1087488abf50",
        "colab": {
          "base_uri": "https://localhost:8080/"
        }
      },
      "outputs": [
        {
          "output_type": "execute_result",
          "data": {
            "text/plain": [
              "4.5"
            ]
          },
          "metadata": {},
          "execution_count": 19
        }
      ],
      "source": [
        "pd.Series([1,2,3,4,5]).quantile(0.9, interpolation='midpoint')"
      ]
    },
    {
      "cell_type": "code",
      "execution_count": 20,
      "id": "2f226c34",
      "metadata": {
        "id": "2f226c34",
        "outputId": "1a91cdfa-0375-42e8-e362-77aa1d7034a5",
        "colab": {
          "base_uri": "https://localhost:8080/"
        }
      },
      "outputs": [
        {
          "output_type": "execute_result",
          "data": {
            "text/plain": [
              "5"
            ]
          },
          "metadata": {},
          "execution_count": 20
        }
      ],
      "source": [
        "pd.Series([1,2,3,4,5]).quantile(0.9, interpolation='nearest')"
      ]
    },
    {
      "cell_type": "code",
      "execution_count": 21,
      "id": "ac67b21c",
      "metadata": {
        "id": "ac67b21c"
      },
      "outputs": [],
      "source": [
        "borrow_10_flag = ns_book7['대출건수'] < 10"
      ]
    },
    {
      "cell_type": "code",
      "execution_count": 22,
      "id": "0c08b1d3",
      "metadata": {
        "id": "0c08b1d3",
        "outputId": "5b04269e-f742-4896-b56c-0b9551696f80",
        "colab": {
          "base_uri": "https://localhost:8080/"
        }
      },
      "outputs": [
        {
          "output_type": "execute_result",
          "data": {
            "text/plain": [
              "0.6402712530190833"
            ]
          },
          "metadata": {},
          "execution_count": 22
        }
      ],
      "source": [
        "borrow_10_flag.mean()"
      ]
    },
    {
      "cell_type": "code",
      "execution_count": 23,
      "id": "d35dd69e",
      "metadata": {
        "id": "d35dd69e",
        "outputId": "3ef9559a-6f4d-435c-d8ae-89932a8ffa82",
        "colab": {
          "base_uri": "https://localhost:8080/"
        }
      },
      "outputs": [
        {
          "output_type": "execute_result",
          "data": {
            "text/plain": [
              "10.0"
            ]
          },
          "metadata": {},
          "execution_count": 23
        }
      ],
      "source": [
        "ns_book7['대출건수'].quantile(0.65)"
      ]
    },
    {
      "cell_type": "markdown",
      "id": "c97f4390",
      "metadata": {
        "id": "c97f4390"
      },
      "source": [
        "## 분산"
      ]
    },
    {
      "cell_type": "markdown",
      "id": "112c1414",
      "metadata": {
        "id": "112c1414"
      },
      "source": [
        "$ s^2 = \\dfrac{\\sum_{i=1}^{n}(x_i - \\bar{x})^2}{n}$\n",
        "\n",
        "$ \\bar{x} = \\dfrac{\\sum_{i=1}^n x_i}{n}$"
      ]
    },
    {
      "cell_type": "code",
      "execution_count": 24,
      "id": "5126703e",
      "metadata": {
        "id": "5126703e",
        "outputId": "2135e398-5a27-4594-f9a6-0f85157d1a8c",
        "colab": {
          "base_uri": "https://localhost:8080/"
        }
      },
      "outputs": [
        {
          "output_type": "execute_result",
          "data": {
            "text/plain": [
              "371.6956304306922"
            ]
          },
          "metadata": {},
          "execution_count": 24
        }
      ],
      "source": [
        "ns_book7['대출건수'].var()"
      ]
    },
    {
      "cell_type": "markdown",
      "id": "f044841d",
      "metadata": {
        "id": "f044841d"
      },
      "source": [
        "## 표준 편차"
      ]
    },
    {
      "cell_type": "markdown",
      "id": "0344a344",
      "metadata": {
        "id": "0344a344"
      },
      "source": [
        "$ s = \\sqrt{\\dfrac{\\sum_{i=1}^{n}(x_i - \\bar{x})^2}{n}}$"
      ]
    },
    {
      "cell_type": "code",
      "execution_count": 25,
      "id": "a9255feb",
      "metadata": {
        "id": "a9255feb",
        "outputId": "f288cd9b-75b5-448a-a173-b92b80341b51",
        "colab": {
          "base_uri": "https://localhost:8080/"
        }
      },
      "outputs": [
        {
          "output_type": "execute_result",
          "data": {
            "text/plain": [
              "19.27940949382766"
            ]
          },
          "metadata": {},
          "execution_count": 25
        }
      ],
      "source": [
        "ns_book7['대출건수'].std()"
      ]
    },
    {
      "cell_type": "markdown",
      "id": "3e758e84",
      "metadata": {
        "id": "3e758e84"
      },
      "source": [
        "$\\sqrt{4}=2$"
      ]
    },
    {
      "cell_type": "code",
      "execution_count": 26,
      "id": "8484e2ec",
      "metadata": {
        "id": "8484e2ec",
        "outputId": "e6bd5007-c83e-4719-804f-7d71665198d7",
        "colab": {
          "base_uri": "https://localhost:8080/"
        }
      },
      "outputs": [
        {
          "output_type": "execute_result",
          "data": {
            "text/plain": [
              "19.279409493785508"
            ]
          },
          "metadata": {},
          "execution_count": 26
        }
      ],
      "source": [
        "import numpy as np\n",
        "\n",
        "diff = ns_book7['대출건수'] - ns_book7['대출건수'].mean()\n",
        "\n",
        "np.sqrt( np.sum(diff**2) / (len(ns_book7)-1) )"
      ]
    },
    {
      "cell_type": "markdown",
      "id": "40e1d0d8",
      "metadata": {
        "id": "40e1d0d8"
      },
      "source": [
        "## 최빈값"
      ]
    },
    {
      "cell_type": "code",
      "execution_count": 27,
      "id": "3dbb221c",
      "metadata": {
        "id": "3dbb221c",
        "outputId": "fd6736cd-3691-41f9-db58-4086f9159d29",
        "colab": {
          "base_uri": "https://localhost:8080/",
          "height": 115
        }
      },
      "outputs": [
        {
          "output_type": "execute_result",
          "data": {
            "text/plain": [
              "0    승정원일기\n",
              "Name: 도서명, dtype: object"
            ],
            "text/html": [
              "<div>\n",
              "<style scoped>\n",
              "    .dataframe tbody tr th:only-of-type {\n",
              "        vertical-align: middle;\n",
              "    }\n",
              "\n",
              "    .dataframe tbody tr th {\n",
              "        vertical-align: top;\n",
              "    }\n",
              "\n",
              "    .dataframe thead th {\n",
              "        text-align: right;\n",
              "    }\n",
              "</style>\n",
              "<table border=\"1\" class=\"dataframe\">\n",
              "  <thead>\n",
              "    <tr style=\"text-align: right;\">\n",
              "      <th></th>\n",
              "      <th>도서명</th>\n",
              "    </tr>\n",
              "  </thead>\n",
              "  <tbody>\n",
              "    <tr>\n",
              "      <th>0</th>\n",
              "      <td>승정원일기</td>\n",
              "    </tr>\n",
              "  </tbody>\n",
              "</table>\n",
              "</div><br><label><b>dtype:</b> object</label>"
            ]
          },
          "metadata": {},
          "execution_count": 27
        }
      ],
      "source": [
        "ns_book7['도서명'].mode()"
      ]
    },
    {
      "cell_type": "code",
      "execution_count": 28,
      "id": "995e739c",
      "metadata": {
        "scrolled": true,
        "id": "995e739c",
        "outputId": "6c378d0b-220f-4ca1-a977-4d9ee0bf6bca",
        "colab": {
          "base_uri": "https://localhost:8080/",
          "height": 115
        }
      },
      "outputs": [
        {
          "output_type": "execute_result",
          "data": {
            "text/plain": [
              "0    2012.0\n",
              "Name: 발행년도, dtype: float64"
            ],
            "text/html": [
              "<div>\n",
              "<style scoped>\n",
              "    .dataframe tbody tr th:only-of-type {\n",
              "        vertical-align: middle;\n",
              "    }\n",
              "\n",
              "    .dataframe tbody tr th {\n",
              "        vertical-align: top;\n",
              "    }\n",
              "\n",
              "    .dataframe thead th {\n",
              "        text-align: right;\n",
              "    }\n",
              "</style>\n",
              "<table border=\"1\" class=\"dataframe\">\n",
              "  <thead>\n",
              "    <tr style=\"text-align: right;\">\n",
              "      <th></th>\n",
              "      <th>발행년도</th>\n",
              "    </tr>\n",
              "  </thead>\n",
              "  <tbody>\n",
              "    <tr>\n",
              "      <th>0</th>\n",
              "      <td>2012.0</td>\n",
              "    </tr>\n",
              "  </tbody>\n",
              "</table>\n",
              "</div><br><label><b>dtype:</b> float64</label>"
            ]
          },
          "metadata": {},
          "execution_count": 28
        }
      ],
      "source": [
        "ns_book7['발행년도'].mode()"
      ]
    },
    {
      "cell_type": "markdown",
      "id": "dc59d7f3",
      "metadata": {
        "id": "dc59d7f3"
      },
      "source": [
        "## 데이터프레임에서 기술통계 구하기"
      ]
    },
    {
      "cell_type": "code",
      "execution_count": 29,
      "id": "ec51db89",
      "metadata": {
        "id": "ec51db89",
        "outputId": "7ea149cc-cca4-412c-af30-3909e9f88ff9",
        "colab": {
          "base_uri": "https://localhost:8080/",
          "height": 209
        }
      },
      "outputs": [
        {
          "output_type": "execute_result",
          "data": {
            "text/plain": [
              "번호      202977.476649\n",
              "발행년도      2008.460076\n",
              "도서권수         1.145540\n",
              "대출건수        11.593439\n",
              "dtype: float64"
            ],
            "text/html": [
              "<div>\n",
              "<style scoped>\n",
              "    .dataframe tbody tr th:only-of-type {\n",
              "        vertical-align: middle;\n",
              "    }\n",
              "\n",
              "    .dataframe tbody tr th {\n",
              "        vertical-align: top;\n",
              "    }\n",
              "\n",
              "    .dataframe thead th {\n",
              "        text-align: right;\n",
              "    }\n",
              "</style>\n",
              "<table border=\"1\" class=\"dataframe\">\n",
              "  <thead>\n",
              "    <tr style=\"text-align: right;\">\n",
              "      <th></th>\n",
              "      <th>0</th>\n",
              "    </tr>\n",
              "  </thead>\n",
              "  <tbody>\n",
              "    <tr>\n",
              "      <th>번호</th>\n",
              "      <td>202977.476649</td>\n",
              "    </tr>\n",
              "    <tr>\n",
              "      <th>발행년도</th>\n",
              "      <td>2008.460076</td>\n",
              "    </tr>\n",
              "    <tr>\n",
              "      <th>도서권수</th>\n",
              "      <td>1.145540</td>\n",
              "    </tr>\n",
              "    <tr>\n",
              "      <th>대출건수</th>\n",
              "      <td>11.593439</td>\n",
              "    </tr>\n",
              "  </tbody>\n",
              "</table>\n",
              "</div><br><label><b>dtype:</b> float64</label>"
            ]
          },
          "metadata": {},
          "execution_count": 29
        }
      ],
      "source": [
        "ns_book7.mean(numeric_only=True)"
      ]
    },
    {
      "cell_type": "code",
      "execution_count": 30,
      "id": "9d4ee668",
      "metadata": {
        "scrolled": true,
        "id": "9d4ee668",
        "outputId": "8731529d-56ed-4bb6-ba2d-009b54949516",
        "colab": {
          "base_uri": "https://localhost:8080/",
          "height": 81
        }
      },
      "outputs": [
        {
          "output_type": "execute_result",
          "data": {
            "text/plain": [
              "     도서명             저자   출판사    발행년도           ISBN        세트 ISBN 부가기호  권  \\\n",
              "0  승정원일기  세종대왕기념사업회 [편]  문학동네  2012.0  9788937430299  9788937460005    0  1   \n",
              "\n",
              "  주제분류번호  도서권수  대출건수        등록일자  \n",
              "0  813.6     1     0  1970-01-01  "
            ],
            "text/html": [
              "\n",
              "  <div id=\"df-ed83b101-20e6-4e08-969f-a0c25c10684b\" class=\"colab-df-container\">\n",
              "    <div>\n",
              "<style scoped>\n",
              "    .dataframe tbody tr th:only-of-type {\n",
              "        vertical-align: middle;\n",
              "    }\n",
              "\n",
              "    .dataframe tbody tr th {\n",
              "        vertical-align: top;\n",
              "    }\n",
              "\n",
              "    .dataframe thead th {\n",
              "        text-align: right;\n",
              "    }\n",
              "</style>\n",
              "<table border=\"1\" class=\"dataframe\">\n",
              "  <thead>\n",
              "    <tr style=\"text-align: right;\">\n",
              "      <th></th>\n",
              "      <th>도서명</th>\n",
              "      <th>저자</th>\n",
              "      <th>출판사</th>\n",
              "      <th>발행년도</th>\n",
              "      <th>ISBN</th>\n",
              "      <th>세트 ISBN</th>\n",
              "      <th>부가기호</th>\n",
              "      <th>권</th>\n",
              "      <th>주제분류번호</th>\n",
              "      <th>도서권수</th>\n",
              "      <th>대출건수</th>\n",
              "      <th>등록일자</th>\n",
              "    </tr>\n",
              "  </thead>\n",
              "  <tbody>\n",
              "    <tr>\n",
              "      <th>0</th>\n",
              "      <td>승정원일기</td>\n",
              "      <td>세종대왕기념사업회 [편]</td>\n",
              "      <td>문학동네</td>\n",
              "      <td>2012.0</td>\n",
              "      <td>9788937430299</td>\n",
              "      <td>9788937460005</td>\n",
              "      <td>0</td>\n",
              "      <td>1</td>\n",
              "      <td>813.6</td>\n",
              "      <td>1</td>\n",
              "      <td>0</td>\n",
              "      <td>1970-01-01</td>\n",
              "    </tr>\n",
              "  </tbody>\n",
              "</table>\n",
              "</div>\n",
              "    <div class=\"colab-df-buttons\">\n",
              "\n",
              "  <div class=\"colab-df-container\">\n",
              "    <button class=\"colab-df-convert\" onclick=\"convertToInteractive('df-ed83b101-20e6-4e08-969f-a0c25c10684b')\"\n",
              "            title=\"Convert this dataframe to an interactive table.\"\n",
              "            style=\"display:none;\">\n",
              "\n",
              "  <svg xmlns=\"http://www.w3.org/2000/svg\" height=\"24px\" viewBox=\"0 -960 960 960\">\n",
              "    <path d=\"M120-120v-720h720v720H120Zm60-500h600v-160H180v160Zm220 220h160v-160H400v160Zm0 220h160v-160H400v160ZM180-400h160v-160H180v160Zm440 0h160v-160H620v160ZM180-180h160v-160H180v160Zm440 0h160v-160H620v160Z\"/>\n",
              "  </svg>\n",
              "    </button>\n",
              "\n",
              "  <style>\n",
              "    .colab-df-container {\n",
              "      display:flex;\n",
              "      gap: 12px;\n",
              "    }\n",
              "\n",
              "    .colab-df-convert {\n",
              "      background-color: #E8F0FE;\n",
              "      border: none;\n",
              "      border-radius: 50%;\n",
              "      cursor: pointer;\n",
              "      display: none;\n",
              "      fill: #1967D2;\n",
              "      height: 32px;\n",
              "      padding: 0 0 0 0;\n",
              "      width: 32px;\n",
              "    }\n",
              "\n",
              "    .colab-df-convert:hover {\n",
              "      background-color: #E2EBFA;\n",
              "      box-shadow: 0px 1px 2px rgba(60, 64, 67, 0.3), 0px 1px 3px 1px rgba(60, 64, 67, 0.15);\n",
              "      fill: #174EA6;\n",
              "    }\n",
              "\n",
              "    .colab-df-buttons div {\n",
              "      margin-bottom: 4px;\n",
              "    }\n",
              "\n",
              "    [theme=dark] .colab-df-convert {\n",
              "      background-color: #3B4455;\n",
              "      fill: #D2E3FC;\n",
              "    }\n",
              "\n",
              "    [theme=dark] .colab-df-convert:hover {\n",
              "      background-color: #434B5C;\n",
              "      box-shadow: 0px 1px 3px 1px rgba(0, 0, 0, 0.15);\n",
              "      filter: drop-shadow(0px 1px 2px rgba(0, 0, 0, 0.3));\n",
              "      fill: #FFFFFF;\n",
              "    }\n",
              "  </style>\n",
              "\n",
              "    <script>\n",
              "      const buttonEl =\n",
              "        document.querySelector('#df-ed83b101-20e6-4e08-969f-a0c25c10684b button.colab-df-convert');\n",
              "      buttonEl.style.display =\n",
              "        google.colab.kernel.accessAllowed ? 'block' : 'none';\n",
              "\n",
              "      async function convertToInteractive(key) {\n",
              "        const element = document.querySelector('#df-ed83b101-20e6-4e08-969f-a0c25c10684b');\n",
              "        const dataTable =\n",
              "          await google.colab.kernel.invokeFunction('convertToInteractive',\n",
              "                                                    [key], {});\n",
              "        if (!dataTable) return;\n",
              "\n",
              "        const docLinkHtml = 'Like what you see? Visit the ' +\n",
              "          '<a target=\"_blank\" href=https://colab.research.google.com/notebooks/data_table.ipynb>data table notebook</a>'\n",
              "          + ' to learn more about interactive tables.';\n",
              "        element.innerHTML = '';\n",
              "        dataTable['output_type'] = 'display_data';\n",
              "        await google.colab.output.renderOutput(dataTable, element);\n",
              "        const docLink = document.createElement('div');\n",
              "        docLink.innerHTML = docLinkHtml;\n",
              "        element.appendChild(docLink);\n",
              "      }\n",
              "    </script>\n",
              "  </div>\n",
              "\n",
              "\n",
              "    </div>\n",
              "  </div>\n"
            ],
            "application/vnd.google.colaboratory.intrinsic+json": {
              "type": "dataframe",
              "summary": "{\n  \"name\": \"ns_book7\",\n  \"rows\": 1,\n  \"fields\": [\n    {\n      \"column\": \"\\ub3c4\\uc11c\\uba85\",\n      \"properties\": {\n        \"dtype\": \"string\",\n        \"num_unique_values\": 1,\n        \"samples\": [\n          \"\\uc2b9\\uc815\\uc6d0\\uc77c\\uae30\"\n        ],\n        \"semantic_type\": \"\",\n        \"description\": \"\"\n      }\n    },\n    {\n      \"column\": \"\\uc800\\uc790\",\n      \"properties\": {\n        \"dtype\": \"string\",\n        \"num_unique_values\": 1,\n        \"samples\": [\n          \"\\uc138\\uc885\\ub300\\uc655\\uae30\\ub150\\uc0ac\\uc5c5\\ud68c [\\ud3b8]\"\n        ],\n        \"semantic_type\": \"\",\n        \"description\": \"\"\n      }\n    },\n    {\n      \"column\": \"\\ucd9c\\ud310\\uc0ac\",\n      \"properties\": {\n        \"dtype\": \"string\",\n        \"num_unique_values\": 1,\n        \"samples\": [\n          \"\\ubb38\\ud559\\ub3d9\\ub124\"\n        ],\n        \"semantic_type\": \"\",\n        \"description\": \"\"\n      }\n    },\n    {\n      \"column\": \"\\ubc1c\\ud589\\ub144\\ub3c4\",\n      \"properties\": {\n        \"dtype\": \"number\",\n        \"std\": null,\n        \"min\": 2012.0,\n        \"max\": 2012.0,\n        \"num_unique_values\": 1,\n        \"samples\": [\n          2012.0\n        ],\n        \"semantic_type\": \"\",\n        \"description\": \"\"\n      }\n    },\n    {\n      \"column\": \"ISBN\",\n      \"properties\": {\n        \"dtype\": \"string\",\n        \"num_unique_values\": 1,\n        \"samples\": [\n          \"9788937430299\"\n        ],\n        \"semantic_type\": \"\",\n        \"description\": \"\"\n      }\n    },\n    {\n      \"column\": \"\\uc138\\ud2b8 ISBN\",\n      \"properties\": {\n        \"dtype\": \"string\",\n        \"num_unique_values\": 1,\n        \"samples\": [\n          \"9788937460005\"\n        ],\n        \"semantic_type\": \"\",\n        \"description\": \"\"\n      }\n    },\n    {\n      \"column\": \"\\ubd80\\uac00\\uae30\\ud638\",\n      \"properties\": {\n        \"dtype\": \"string\",\n        \"num_unique_values\": 1,\n        \"samples\": [\n          \"0\"\n        ],\n        \"semantic_type\": \"\",\n        \"description\": \"\"\n      }\n    },\n    {\n      \"column\": \"\\uad8c\",\n      \"properties\": {\n        \"dtype\": \"string\",\n        \"num_unique_values\": 1,\n        \"samples\": [\n          \"1\"\n        ],\n        \"semantic_type\": \"\",\n        \"description\": \"\"\n      }\n    },\n    {\n      \"column\": \"\\uc8fc\\uc81c\\ubd84\\ub958\\ubc88\\ud638\",\n      \"properties\": {\n        \"dtype\": \"string\",\n        \"num_unique_values\": 1,\n        \"samples\": [\n          \"813.6\"\n        ],\n        \"semantic_type\": \"\",\n        \"description\": \"\"\n      }\n    },\n    {\n      \"column\": \"\\ub3c4\\uc11c\\uad8c\\uc218\",\n      \"properties\": {\n        \"dtype\": \"number\",\n        \"std\": null,\n        \"min\": 1,\n        \"max\": 1,\n        \"num_unique_values\": 1,\n        \"samples\": [\n          1\n        ],\n        \"semantic_type\": \"\",\n        \"description\": \"\"\n      }\n    },\n    {\n      \"column\": \"\\ub300\\ucd9c\\uac74\\uc218\",\n      \"properties\": {\n        \"dtype\": \"number\",\n        \"std\": null,\n        \"min\": 0,\n        \"max\": 0,\n        \"num_unique_values\": 1,\n        \"samples\": [\n          0\n        ],\n        \"semantic_type\": \"\",\n        \"description\": \"\"\n      }\n    },\n    {\n      \"column\": \"\\ub4f1\\ub85d\\uc77c\\uc790\",\n      \"properties\": {\n        \"dtype\": \"object\",\n        \"num_unique_values\": 1,\n        \"samples\": [\n          \"1970-01-01\"\n        ],\n        \"semantic_type\": \"\",\n        \"description\": \"\"\n      }\n    }\n  ]\n}"
            }
          },
          "metadata": {},
          "execution_count": 30
        }
      ],
      "source": [
        "ns_book7.loc[:, '도서명':].mode()"
      ]
    },
    {
      "cell_type": "code",
      "execution_count": 31,
      "id": "a9ccbdd1",
      "metadata": {
        "id": "a9ccbdd1"
      },
      "outputs": [],
      "source": [
        "ns_book7.to_csv('ns_book7.csv', index=False)"
      ]
    },
    {
      "cell_type": "markdown",
      "id": "f6114d2e",
      "metadata": {
        "id": "f6114d2e"
      },
      "source": [
        "## 넘파이의 기술통계 함수"
      ]
    },
    {
      "cell_type": "markdown",
      "id": "c8b788d8",
      "metadata": {
        "id": "c8b788d8"
      },
      "source": [
        "### 평균 구하기"
      ]
    },
    {
      "cell_type": "code",
      "execution_count": 32,
      "id": "259df238",
      "metadata": {
        "id": "259df238",
        "outputId": "0311270f-1c85-440c-eefa-6ebc89516959",
        "colab": {
          "base_uri": "https://localhost:8080/"
        }
      },
      "outputs": [
        {
          "output_type": "execute_result",
          "data": {
            "text/plain": [
              "11.593438968070707"
            ]
          },
          "metadata": {},
          "execution_count": 32
        }
      ],
      "source": [
        "import numpy as np\n",
        "\n",
        "np.mean(ns_book7['대출건수'])"
      ]
    },
    {
      "cell_type": "markdown",
      "id": "82696777",
      "metadata": {
        "id": "82696777"
      },
      "source": [
        "$\\dfrac{국어점수 \\times 2 + 수학점수}{3}$\n",
        "\n",
        "$\\dfrac{국어점수 \\times 국어가중치 + 수학점수 \\times 수학가중치}{국어가중치 + 수학가중치}$\n",
        "\n",
        "$가중평균 = \\dfrac{x_1 \\times w_1 + x_2 \\times w_2}{w_1 + w_2} = \\dfrac{\\sum_{i=1}^{2} x_i \\times w_i}{\\sum_{i=1}^{2} w_i}$"
      ]
    },
    {
      "cell_type": "code",
      "execution_count": 33,
      "id": "1c7f005c",
      "metadata": {
        "scrolled": true,
        "id": "1c7f005c",
        "outputId": "77b898dd-af02-45c9-9b3e-155ef292d4e7",
        "colab": {
          "base_uri": "https://localhost:8080/"
        }
      },
      "outputs": [
        {
          "output_type": "execute_result",
          "data": {
            "text/plain": [
              "10.543612175385386"
            ]
          },
          "metadata": {},
          "execution_count": 33
        }
      ],
      "source": [
        "np.average(ns_book7['대출건수'], weights=1/ns_book7['도서권수'])"
      ]
    },
    {
      "cell_type": "code",
      "execution_count": 34,
      "id": "e3f6a7b6",
      "metadata": {
        "id": "e3f6a7b6",
        "outputId": "62ce2883-553d-43e4-b01a-2179323369d1",
        "colab": {
          "base_uri": "https://localhost:8080/"
        }
      },
      "outputs": [
        {
          "output_type": "execute_result",
          "data": {
            "text/plain": [
              "9.873029861445774"
            ]
          },
          "metadata": {},
          "execution_count": 34
        }
      ],
      "source": [
        "np.mean(ns_book7['대출건수']/ns_book7['도서권수'])"
      ]
    },
    {
      "cell_type": "code",
      "execution_count": 35,
      "id": "20f9a992",
      "metadata": {
        "scrolled": true,
        "id": "20f9a992",
        "outputId": "ed38d08b-cc25-4cd7-a127-f350de7de9f9",
        "colab": {
          "base_uri": "https://localhost:8080/"
        }
      },
      "outputs": [
        {
          "output_type": "execute_result",
          "data": {
            "text/plain": [
              "10.120503701300958"
            ]
          },
          "metadata": {},
          "execution_count": 35
        }
      ],
      "source": [
        "ns_book7['대출건수'].sum()/ns_book7['도서권수'].sum()"
      ]
    },
    {
      "cell_type": "markdown",
      "id": "13b3a1e5",
      "metadata": {
        "id": "13b3a1e5"
      },
      "source": [
        "### 중앙값 구하기"
      ]
    },
    {
      "cell_type": "code",
      "execution_count": 36,
      "id": "3f627653",
      "metadata": {
        "id": "3f627653",
        "outputId": "d5635d9c-2678-4ac9-80a5-6f6ff2618fe0",
        "colab": {
          "base_uri": "https://localhost:8080/"
        }
      },
      "outputs": [
        {
          "output_type": "execute_result",
          "data": {
            "text/plain": [
              "6.0"
            ]
          },
          "metadata": {},
          "execution_count": 36
        }
      ],
      "source": [
        "np.median(ns_book7['대출건수'])"
      ]
    },
    {
      "cell_type": "markdown",
      "id": "ebf031cb",
      "metadata": {
        "id": "ebf031cb"
      },
      "source": [
        "### 최솟값, 최댓값 구하기"
      ]
    },
    {
      "cell_type": "code",
      "execution_count": 37,
      "id": "f61e54a7",
      "metadata": {
        "id": "f61e54a7",
        "outputId": "4f58b5e5-860e-468e-f3c3-391a537281fb",
        "colab": {
          "base_uri": "https://localhost:8080/"
        }
      },
      "outputs": [
        {
          "output_type": "execute_result",
          "data": {
            "text/plain": [
              "0"
            ]
          },
          "metadata": {},
          "execution_count": 37
        }
      ],
      "source": [
        "np.min(ns_book7['대출건수'])"
      ]
    },
    {
      "cell_type": "code",
      "execution_count": 38,
      "id": "730fe473",
      "metadata": {
        "id": "730fe473",
        "outputId": "f92108e7-31f7-4498-e778-8a089ddbf4c1",
        "colab": {
          "base_uri": "https://localhost:8080/"
        }
      },
      "outputs": [
        {
          "output_type": "execute_result",
          "data": {
            "text/plain": [
              "1765"
            ]
          },
          "metadata": {},
          "execution_count": 38
        }
      ],
      "source": [
        "np.max(ns_book7['대출건수'])"
      ]
    },
    {
      "cell_type": "markdown",
      "id": "91d5cb75",
      "metadata": {
        "id": "91d5cb75"
      },
      "source": [
        "### 분위수 구하기"
      ]
    },
    {
      "cell_type": "code",
      "execution_count": 39,
      "id": "34a541ed",
      "metadata": {
        "id": "34a541ed",
        "outputId": "b0158af7-c568-4f12-f828-b3a74872a111",
        "colab": {
          "base_uri": "https://localhost:8080/"
        }
      },
      "outputs": [
        {
          "output_type": "execute_result",
          "data": {
            "text/plain": [
              "array([ 2.,  6., 14.])"
            ]
          },
          "metadata": {},
          "execution_count": 39
        }
      ],
      "source": [
        "# interpolation 매개변수가 numpy 1.22(python >= 3.8) 버전부터 method로 바뀜\n",
        "np.quantile(ns_book7['대출건수'], [0.25,0.5,0.75])"
      ]
    },
    {
      "cell_type": "markdown",
      "id": "3da83285",
      "metadata": {
        "id": "3da83285"
      },
      "source": [
        "### 분산 구하기"
      ]
    },
    {
      "cell_type": "code",
      "execution_count": 40,
      "id": "9be4057a",
      "metadata": {
        "id": "9be4057a",
        "outputId": "985402d2-5fbd-449c-d40b-8109d0f16f8b",
        "colab": {
          "base_uri": "https://localhost:8080/"
        }
      },
      "outputs": [
        {
          "output_type": "execute_result",
          "data": {
            "text/plain": [
              "371.694643898775"
            ]
          },
          "metadata": {},
          "execution_count": 40
        }
      ],
      "source": [
        "np.var(ns_book7['대출건수'])"
      ]
    },
    {
      "cell_type": "markdown",
      "id": "e320c311",
      "metadata": {
        "id": "e320c311"
      },
      "source": [
        "$ s^2 = \\dfrac{\\sum_{i=1}^{n}(x_i - \\bar{x})^2}{n - 1}$"
      ]
    },
    {
      "cell_type": "code",
      "execution_count": 41,
      "id": "0e1d74a0",
      "metadata": {
        "id": "0e1d74a0",
        "outputId": "73c66d73-aac2-411d-f25a-8e48d0d2db16",
        "colab": {
          "base_uri": "https://localhost:8080/"
        }
      },
      "outputs": [
        {
          "output_type": "execute_result",
          "data": {
            "text/plain": [
              "371.694643898775"
            ]
          },
          "metadata": {},
          "execution_count": 41
        }
      ],
      "source": [
        "ns_book7['대출건수'].var(ddof=0)"
      ]
    },
    {
      "cell_type": "code",
      "execution_count": 42,
      "id": "92a68ee5",
      "metadata": {
        "id": "92a68ee5",
        "outputId": "33fba83b-54ff-45a3-a8f6-d10c9a4f9bf7",
        "colab": {
          "base_uri": "https://localhost:8080/"
        }
      },
      "outputs": [
        {
          "output_type": "execute_result",
          "data": {
            "text/plain": [
              "371.6956304306922"
            ]
          },
          "metadata": {},
          "execution_count": 42
        }
      ],
      "source": [
        "np.var(ns_book7['대출건수'], ddof=1)"
      ]
    },
    {
      "cell_type": "markdown",
      "id": "a50c7032",
      "metadata": {
        "id": "a50c7032"
      },
      "source": [
        "### 표준 편차 구하기"
      ]
    },
    {
      "cell_type": "code",
      "execution_count": 43,
      "id": "7ecdabaa",
      "metadata": {
        "id": "7ecdabaa",
        "outputId": "9a046267-5787-4b1d-a3a4-fedc7d3ac9e0",
        "colab": {
          "base_uri": "https://localhost:8080/"
        }
      },
      "outputs": [
        {
          "output_type": "execute_result",
          "data": {
            "text/plain": [
              "19.279383908693113"
            ]
          },
          "metadata": {},
          "execution_count": 43
        }
      ],
      "source": [
        "np.std(ns_book7['대출건수'])"
      ]
    },
    {
      "cell_type": "markdown",
      "id": "eb01e4a1",
      "metadata": {
        "id": "eb01e4a1"
      },
      "source": [
        "### 최빈값 구하기"
      ]
    },
    {
      "cell_type": "code",
      "execution_count": 44,
      "id": "d709a1bf",
      "metadata": {
        "id": "d709a1bf",
        "outputId": "fa8a5e54-a46b-4b26-9452-263f11a593e0",
        "colab": {
          "base_uri": "https://localhost:8080/",
          "height": 36
        }
      },
      "outputs": [
        {
          "output_type": "execute_result",
          "data": {
            "text/plain": [
              "'승정원일기'"
            ],
            "application/vnd.google.colaboratory.intrinsic+json": {
              "type": "string"
            }
          },
          "metadata": {},
          "execution_count": 44
        }
      ],
      "source": [
        "values, counts = np.unique(ns_book7['도서명'], return_counts=True)\n",
        "max_idx = np.argmax(counts)\n",
        "values[max_idx]"
      ]
    },
    {
      "cell_type": "markdown",
      "id": "abd90117",
      "metadata": {
        "id": "abd90117"
      },
      "source": [
        "## 확인문제"
      ]
    },
    {
      "cell_type": "markdown",
      "id": "0842d73e",
      "metadata": {
        "id": "0842d73e"
      },
      "source": [
        "#### 4."
      ]
    },
    {
      "cell_type": "code",
      "execution_count": 45,
      "id": "edde0726",
      "metadata": {
        "id": "edde0726",
        "outputId": "5f59e430-3cb5-4c60-d8c7-efd7cc3a68dc",
        "colab": {
          "base_uri": "https://localhost:8080/",
          "height": 394
        }
      },
      "outputs": [
        {
          "output_type": "execute_result",
          "data": {
            "text/plain": [
              "                       대출건수\n",
              "출판사                        \n",
              "동녁라이프            224.000000\n",
              "와이비엠시사           215.000000\n",
              "환상               210.000000\n",
              "두앤비컨텐츠(랜덤하우스중앙)  167.000000\n",
              "개미들출판사-에셀문화사     157.000000\n",
              "해커스 어학 연구소       149.500000\n",
              "Test clinic      137.000000\n",
              "마야출판사            133.333333\n",
              "해밀 & Co.         133.000000\n",
              "마그나(Magna)       130.000000"
            ],
            "text/html": [
              "\n",
              "  <div id=\"df-6573cc6f-a978-40e6-a7b7-74561c734033\" class=\"colab-df-container\">\n",
              "    <div>\n",
              "<style scoped>\n",
              "    .dataframe tbody tr th:only-of-type {\n",
              "        vertical-align: middle;\n",
              "    }\n",
              "\n",
              "    .dataframe tbody tr th {\n",
              "        vertical-align: top;\n",
              "    }\n",
              "\n",
              "    .dataframe thead th {\n",
              "        text-align: right;\n",
              "    }\n",
              "</style>\n",
              "<table border=\"1\" class=\"dataframe\">\n",
              "  <thead>\n",
              "    <tr style=\"text-align: right;\">\n",
              "      <th></th>\n",
              "      <th>대출건수</th>\n",
              "    </tr>\n",
              "    <tr>\n",
              "      <th>출판사</th>\n",
              "      <th></th>\n",
              "    </tr>\n",
              "  </thead>\n",
              "  <tbody>\n",
              "    <tr>\n",
              "      <th>동녁라이프</th>\n",
              "      <td>224.000000</td>\n",
              "    </tr>\n",
              "    <tr>\n",
              "      <th>와이비엠시사</th>\n",
              "      <td>215.000000</td>\n",
              "    </tr>\n",
              "    <tr>\n",
              "      <th>환상</th>\n",
              "      <td>210.000000</td>\n",
              "    </tr>\n",
              "    <tr>\n",
              "      <th>두앤비컨텐츠(랜덤하우스중앙)</th>\n",
              "      <td>167.000000</td>\n",
              "    </tr>\n",
              "    <tr>\n",
              "      <th>개미들출판사-에셀문화사</th>\n",
              "      <td>157.000000</td>\n",
              "    </tr>\n",
              "    <tr>\n",
              "      <th>해커스 어학 연구소</th>\n",
              "      <td>149.500000</td>\n",
              "    </tr>\n",
              "    <tr>\n",
              "      <th>Test clinic</th>\n",
              "      <td>137.000000</td>\n",
              "    </tr>\n",
              "    <tr>\n",
              "      <th>마야출판사</th>\n",
              "      <td>133.333333</td>\n",
              "    </tr>\n",
              "    <tr>\n",
              "      <th>해밀 &amp; Co.</th>\n",
              "      <td>133.000000</td>\n",
              "    </tr>\n",
              "    <tr>\n",
              "      <th>마그나(Magna)</th>\n",
              "      <td>130.000000</td>\n",
              "    </tr>\n",
              "  </tbody>\n",
              "</table>\n",
              "</div>\n",
              "    <div class=\"colab-df-buttons\">\n",
              "\n",
              "  <div class=\"colab-df-container\">\n",
              "    <button class=\"colab-df-convert\" onclick=\"convertToInteractive('df-6573cc6f-a978-40e6-a7b7-74561c734033')\"\n",
              "            title=\"Convert this dataframe to an interactive table.\"\n",
              "            style=\"display:none;\">\n",
              "\n",
              "  <svg xmlns=\"http://www.w3.org/2000/svg\" height=\"24px\" viewBox=\"0 -960 960 960\">\n",
              "    <path d=\"M120-120v-720h720v720H120Zm60-500h600v-160H180v160Zm220 220h160v-160H400v160Zm0 220h160v-160H400v160ZM180-400h160v-160H180v160Zm440 0h160v-160H620v160ZM180-180h160v-160H180v160Zm440 0h160v-160H620v160Z\"/>\n",
              "  </svg>\n",
              "    </button>\n",
              "\n",
              "  <style>\n",
              "    .colab-df-container {\n",
              "      display:flex;\n",
              "      gap: 12px;\n",
              "    }\n",
              "\n",
              "    .colab-df-convert {\n",
              "      background-color: #E8F0FE;\n",
              "      border: none;\n",
              "      border-radius: 50%;\n",
              "      cursor: pointer;\n",
              "      display: none;\n",
              "      fill: #1967D2;\n",
              "      height: 32px;\n",
              "      padding: 0 0 0 0;\n",
              "      width: 32px;\n",
              "    }\n",
              "\n",
              "    .colab-df-convert:hover {\n",
              "      background-color: #E2EBFA;\n",
              "      box-shadow: 0px 1px 2px rgba(60, 64, 67, 0.3), 0px 1px 3px 1px rgba(60, 64, 67, 0.15);\n",
              "      fill: #174EA6;\n",
              "    }\n",
              "\n",
              "    .colab-df-buttons div {\n",
              "      margin-bottom: 4px;\n",
              "    }\n",
              "\n",
              "    [theme=dark] .colab-df-convert {\n",
              "      background-color: #3B4455;\n",
              "      fill: #D2E3FC;\n",
              "    }\n",
              "\n",
              "    [theme=dark] .colab-df-convert:hover {\n",
              "      background-color: #434B5C;\n",
              "      box-shadow: 0px 1px 3px 1px rgba(0, 0, 0, 0.15);\n",
              "      filter: drop-shadow(0px 1px 2px rgba(0, 0, 0, 0.3));\n",
              "      fill: #FFFFFF;\n",
              "    }\n",
              "  </style>\n",
              "\n",
              "    <script>\n",
              "      const buttonEl =\n",
              "        document.querySelector('#df-6573cc6f-a978-40e6-a7b7-74561c734033 button.colab-df-convert');\n",
              "      buttonEl.style.display =\n",
              "        google.colab.kernel.accessAllowed ? 'block' : 'none';\n",
              "\n",
              "      async function convertToInteractive(key) {\n",
              "        const element = document.querySelector('#df-6573cc6f-a978-40e6-a7b7-74561c734033');\n",
              "        const dataTable =\n",
              "          await google.colab.kernel.invokeFunction('convertToInteractive',\n",
              "                                                    [key], {});\n",
              "        if (!dataTable) return;\n",
              "\n",
              "        const docLinkHtml = 'Like what you see? Visit the ' +\n",
              "          '<a target=\"_blank\" href=https://colab.research.google.com/notebooks/data_table.ipynb>data table notebook</a>'\n",
              "          + ' to learn more about interactive tables.';\n",
              "        element.innerHTML = '';\n",
              "        dataTable['output_type'] = 'display_data';\n",
              "        await google.colab.output.renderOutput(dataTable, element);\n",
              "        const docLink = document.createElement('div');\n",
              "        docLink.innerHTML = docLinkHtml;\n",
              "        element.appendChild(docLink);\n",
              "      }\n",
              "    </script>\n",
              "  </div>\n",
              "\n",
              "\n",
              "<div id=\"df-f183cc6f-5abc-4d95-b1e3-c49c687f02eb\">\n",
              "  <button class=\"colab-df-quickchart\" onclick=\"quickchart('df-f183cc6f-5abc-4d95-b1e3-c49c687f02eb')\"\n",
              "            title=\"Suggest charts\"\n",
              "            style=\"display:none;\">\n",
              "\n",
              "<svg xmlns=\"http://www.w3.org/2000/svg\" height=\"24px\"viewBox=\"0 0 24 24\"\n",
              "     width=\"24px\">\n",
              "    <g>\n",
              "        <path d=\"M19 3H5c-1.1 0-2 .9-2 2v14c0 1.1.9 2 2 2h14c1.1 0 2-.9 2-2V5c0-1.1-.9-2-2-2zM9 17H7v-7h2v7zm4 0h-2V7h2v10zm4 0h-2v-4h2v4z\"/>\n",
              "    </g>\n",
              "</svg>\n",
              "  </button>\n",
              "\n",
              "<style>\n",
              "  .colab-df-quickchart {\n",
              "      --bg-color: #E8F0FE;\n",
              "      --fill-color: #1967D2;\n",
              "      --hover-bg-color: #E2EBFA;\n",
              "      --hover-fill-color: #174EA6;\n",
              "      --disabled-fill-color: #AAA;\n",
              "      --disabled-bg-color: #DDD;\n",
              "  }\n",
              "\n",
              "  [theme=dark] .colab-df-quickchart {\n",
              "      --bg-color: #3B4455;\n",
              "      --fill-color: #D2E3FC;\n",
              "      --hover-bg-color: #434B5C;\n",
              "      --hover-fill-color: #FFFFFF;\n",
              "      --disabled-bg-color: #3B4455;\n",
              "      --disabled-fill-color: #666;\n",
              "  }\n",
              "\n",
              "  .colab-df-quickchart {\n",
              "    background-color: var(--bg-color);\n",
              "    border: none;\n",
              "    border-radius: 50%;\n",
              "    cursor: pointer;\n",
              "    display: none;\n",
              "    fill: var(--fill-color);\n",
              "    height: 32px;\n",
              "    padding: 0;\n",
              "    width: 32px;\n",
              "  }\n",
              "\n",
              "  .colab-df-quickchart:hover {\n",
              "    background-color: var(--hover-bg-color);\n",
              "    box-shadow: 0 1px 2px rgba(60, 64, 67, 0.3), 0 1px 3px 1px rgba(60, 64, 67, 0.15);\n",
              "    fill: var(--button-hover-fill-color);\n",
              "  }\n",
              "\n",
              "  .colab-df-quickchart-complete:disabled,\n",
              "  .colab-df-quickchart-complete:disabled:hover {\n",
              "    background-color: var(--disabled-bg-color);\n",
              "    fill: var(--disabled-fill-color);\n",
              "    box-shadow: none;\n",
              "  }\n",
              "\n",
              "  .colab-df-spinner {\n",
              "    border: 2px solid var(--fill-color);\n",
              "    border-color: transparent;\n",
              "    border-bottom-color: var(--fill-color);\n",
              "    animation:\n",
              "      spin 1s steps(1) infinite;\n",
              "  }\n",
              "\n",
              "  @keyframes spin {\n",
              "    0% {\n",
              "      border-color: transparent;\n",
              "      border-bottom-color: var(--fill-color);\n",
              "      border-left-color: var(--fill-color);\n",
              "    }\n",
              "    20% {\n",
              "      border-color: transparent;\n",
              "      border-left-color: var(--fill-color);\n",
              "      border-top-color: var(--fill-color);\n",
              "    }\n",
              "    30% {\n",
              "      border-color: transparent;\n",
              "      border-left-color: var(--fill-color);\n",
              "      border-top-color: var(--fill-color);\n",
              "      border-right-color: var(--fill-color);\n",
              "    }\n",
              "    40% {\n",
              "      border-color: transparent;\n",
              "      border-right-color: var(--fill-color);\n",
              "      border-top-color: var(--fill-color);\n",
              "    }\n",
              "    60% {\n",
              "      border-color: transparent;\n",
              "      border-right-color: var(--fill-color);\n",
              "    }\n",
              "    80% {\n",
              "      border-color: transparent;\n",
              "      border-right-color: var(--fill-color);\n",
              "      border-bottom-color: var(--fill-color);\n",
              "    }\n",
              "    90% {\n",
              "      border-color: transparent;\n",
              "      border-bottom-color: var(--fill-color);\n",
              "    }\n",
              "  }\n",
              "</style>\n",
              "\n",
              "  <script>\n",
              "    async function quickchart(key) {\n",
              "      const quickchartButtonEl =\n",
              "        document.querySelector('#' + key + ' button');\n",
              "      quickchartButtonEl.disabled = true;  // To prevent multiple clicks.\n",
              "      quickchartButtonEl.classList.add('colab-df-spinner');\n",
              "      try {\n",
              "        const charts = await google.colab.kernel.invokeFunction(\n",
              "            'suggestCharts', [key], {});\n",
              "      } catch (error) {\n",
              "        console.error('Error during call to suggestCharts:', error);\n",
              "      }\n",
              "      quickchartButtonEl.classList.remove('colab-df-spinner');\n",
              "      quickchartButtonEl.classList.add('colab-df-quickchart-complete');\n",
              "    }\n",
              "    (() => {\n",
              "      let quickchartButtonEl =\n",
              "        document.querySelector('#df-f183cc6f-5abc-4d95-b1e3-c49c687f02eb button');\n",
              "      quickchartButtonEl.style.display =\n",
              "        google.colab.kernel.accessAllowed ? 'block' : 'none';\n",
              "    })();\n",
              "  </script>\n",
              "</div>\n",
              "\n",
              "    </div>\n",
              "  </div>\n"
            ],
            "application/vnd.google.colaboratory.intrinsic+json": {
              "type": "dataframe",
              "summary": "{\n  \"name\": \"ns_book7[['\\ucd9c\\ud310\\uc0ac','\\ub300\\ucd9c\\uac74\\uc218']]\",\n  \"rows\": 10,\n  \"fields\": [\n    {\n      \"column\": \"\\ucd9c\\ud310\\uc0ac\",\n      \"properties\": {\n        \"dtype\": \"string\",\n        \"num_unique_values\": 10,\n        \"samples\": [\n          \"\\ud574\\ubc00 & Co.\",\n          \"\\uc640\\uc774\\ube44\\uc5e0\\uc2dc\\uc0ac\",\n          \"\\ud574\\ucee4\\uc2a4 \\uc5b4\\ud559 \\uc5f0\\uad6c\\uc18c\"\n        ],\n        \"semantic_type\": \"\",\n        \"description\": \"\"\n      }\n    },\n    {\n      \"column\": \"\\ub300\\ucd9c\\uac74\\uc218\",\n      \"properties\": {\n        \"dtype\": \"number\",\n        \"std\": 37.03845599133719,\n        \"min\": 130.0,\n        \"max\": 224.0,\n        \"num_unique_values\": 10,\n        \"samples\": [\n          133.0,\n          215.0,\n          149.5\n        ],\n        \"semantic_type\": \"\",\n        \"description\": \"\"\n      }\n    }\n  ]\n}"
            }
          },
          "metadata": {},
          "execution_count": 45
        }
      ],
      "source": [
        "ns_book7[['출판사','대출건수']].groupby('출판사').mean().sort_values('대출건수', ascending=False).head(10)"
      ]
    },
    {
      "cell_type": "markdown",
      "id": "b499f3a6",
      "metadata": {
        "id": "b499f3a6"
      },
      "source": [
        "#### 5."
      ]
    },
    {
      "cell_type": "code",
      "execution_count": 46,
      "id": "9d5679f9",
      "metadata": {
        "id": "9d5679f9",
        "outputId": "898be833-d0c9-4e81-a8ad-ed2dccf93c19",
        "colab": {
          "base_uri": "https://localhost:8080/"
        }
      },
      "outputs": [
        {
          "output_type": "execute_result",
          "data": {
            "text/plain": [
              "51.51737134060568"
            ]
          },
          "metadata": {},
          "execution_count": 46
        }
      ],
      "source": [
        "target_range = np.array(ns_book7['대출건수'].quantile(q=[0.25,0.75]))\n",
        "target_bool_idx = (ns_book7['대출건수'] >= target_range[0]) & (ns_book7['대출건수'] <= target_range[1])\n",
        "target_bool_idx.sum()/len(ns_book7)*100"
      ]
    }
  ],
  "metadata": {
    "kernelspec": {
      "display_name": "Python 3",
      "language": "python",
      "name": "python3"
    },
    "language_info": {
      "codemirror_mode": {
        "name": "ipython",
        "version": 3
      },
      "file_extension": ".py",
      "mimetype": "text/x-python",
      "name": "python",
      "nbconvert_exporter": "python",
      "pygments_lexer": "ipython3",
      "version": "3.7.3"
    },
    "colab": {
      "provenance": []
    }
  },
  "nbformat": 4,
  "nbformat_minor": 5
}